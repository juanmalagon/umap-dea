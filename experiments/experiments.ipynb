{
 "cells": [
  {
   "cell_type": "code",
   "execution_count": null,
   "id": "496664c2",
   "metadata": {
    "scrolled": true
   },
   "outputs": [],
   "source": [
    "import os\n",
    "import pandas as pd\n",
    "import numpy as np\n",
    "from uuid import uuid4\n",
    "\n",
    "from src import dgp, dim_red, dea, eval"
   ]
  },
  {
   "cell_type": "code",
   "execution_count": null,
   "id": "55878b94",
   "metadata": {},
   "outputs": [],
   "source": [
    "pd.set_option('display.max_columns', None)"
   ]
  },
  {
   "cell_type": "code",
   "execution_count": null,
   "id": "f68dab0b",
   "metadata": {},
   "outputs": [],
   "source": [
    "run_serial = str(uuid4())"
   ]
  },
  {
   "cell_type": "code",
   "execution_count": null,
   "id": "6d2944e4",
   "metadata": {},
   "outputs": [],
   "source": [
    "parent_dir = os.getcwd()\n",
    "results_dir = os.path.join(parent_dir, 'results')"
   ]
  },
  {
   "cell_type": "markdown",
   "id": "3080d775",
   "metadata": {},
   "source": [
    "## Set up initial variables"
   ]
  },
  {
   "cell_type": "code",
   "execution_count": null,
   "id": "81755bd5",
   "metadata": {},
   "outputs": [],
   "source": [
    "N = 100\n",
    "M = 1\n",
    "n = 500\n",
    "alpha_1 = 0.25\n",
    "gamma = 1\n",
    "sigma_u = 0.5\n",
    "rts='crs'\n",
    "orientation='input'\n",
    "nr_simulations = 50\n",
    "seed = 42\n",
    "pca = False"
   ]
  },
  {
   "cell_type": "code",
   "execution_count": null,
   "id": "d7d0a8e5",
   "metadata": {
    "scrolled": true
   },
   "outputs": [],
   "source": [
    "np.random.seed(seed)"
   ]
  },
  {
   "cell_type": "code",
   "execution_count": null,
   "id": "4225b503",
   "metadata": {
    "scrolled": true
   },
   "outputs": [],
   "source": [
    "print('INITIAL SETUP \\n')\n",
    "print(f'Number of inputs: {N}')\n",
    "print(f'Number of outputs: {M}')\n",
    "print(f'Number of DMUs: {n}')\n",
    "print(f'Parameter alpha_1: {alpha_1}')\n",
    "print(f'Parameter gamma: {gamma}')\n",
    "print(f'Parameter sigma_u: {sigma_u}')\n",
    "print(f'Return to scale: {rts}')\n",
    "print(f'Orientation: {orientation}')\n",
    "print(f'Number of simulations: {nr_simulations}')\n",
    "print(f'Seed: {seed}')\n",
    "print(f'PCA: {pca}')"
   ]
  },
  {
   "cell_type": "code",
   "execution_count": null,
   "id": "2c2506ba",
   "metadata": {},
   "outputs": [],
   "source": [
    "params_dict = {\n",
    "    'N': N,\n",
    "    'M': M,\n",
    "    'n': n,\n",
    "    'alpha_1': alpha_1,\n",
    "    'gamma': gamma,\n",
    "    'sigma_u': sigma_u,\n",
    "    'rts': rts,\n",
    "    'orientation': orientation,\n",
    "    'nr_simulations': nr_simulations,\n",
    "    'seed': seed,\n",
    "    'pca': pca,\n",
    "}"
   ]
  },
  {
   "cell_type": "markdown",
   "id": "9f36f3bb",
   "metadata": {},
   "source": [
    "## Data Generating Process"
   ]
  },
  {
   "cell_type": "code",
   "execution_count": null,
   "id": "6c672a99",
   "metadata": {},
   "outputs": [],
   "source": [
    "data_dict = dgp.generate_data_dict(\n",
    "    n=n,\n",
    "    N=N,\n",
    "    M=M,\n",
    "    alpha_1=alpha_1,\n",
    "    gamma=gamma,\n",
    "    sigma_u=sigma_u,\n",
    "    verbose=False\n",
    ")\n",
    "x = data_dict[\"x\"]\n",
    "y = data_dict[\"y\"]\n",
    "y_tilde = data_dict[\"y_tilde\"]\n",
    "efficiency_score_by_design = (y/y_tilde).squeeze()"
   ]
  },
  {
   "cell_type": "markdown",
   "id": "e7e85890",
   "metadata": {},
   "source": [
    "## Dimensionality reduction"
   ]
  },
  {
   "cell_type": "code",
   "execution_count": null,
   "id": "ae267e4e",
   "metadata": {},
   "outputs": [],
   "source": [
    "embeddings = dim_red.create_embeddings(x=x, seed=seed)\n",
    "embeddings_df_dict = embeddings['embeddings_df_dict']\n",
    "dims_for_embedding_dict = embeddings['dims_for_embedding_dict']"
   ]
  },
  {
   "cell_type": "markdown",
   "id": "7a09f811",
   "metadata": {},
   "source": [
    "## Calculate DEA"
   ]
  },
  {
   "cell_type": "code",
   "execution_count": null,
   "id": "d8f1baa8",
   "metadata": {},
   "outputs": [],
   "source": [
    "efficiency_scores_dict = dea.calculate_dea_for_embeddings(\n",
    "    embeddings_df_dict=embeddings_df_dict,\n",
    "    y=y,\n",
    "    rts=rts,\n",
    "    orientation=orientation\n",
    ")"
   ]
  },
  {
   "cell_type": "markdown",
   "id": "fb2ab87b",
   "metadata": {},
   "source": [
    "## Evaluate the results"
   ]
  },
  {
   "cell_type": "code",
   "execution_count": null,
   "id": "74cfa78c",
   "metadata": {},
   "outputs": [],
   "source": [
    "evaluation_df = eval.create_evaluation_df(\n",
    "    efficiency_scores_dict=efficiency_scores_dict,\n",
    "    efficiency_score_by_design=efficiency_score_by_design,\n",
    "    dims_for_embedding_dict=dims_for_embedding_dict,\n",
    ")"
   ]
  },
  {
   "cell_type": "code",
   "execution_count": null,
   "id": "619588ed",
   "metadata": {},
   "outputs": [],
   "source": [
    "evaluation_df"
   ]
  },
  {
   "cell_type": "markdown",
   "id": "b96e4639",
   "metadata": {},
   "source": [
    "## Sanity checks"
   ]
  },
  {
   "cell_type": "code",
   "execution_count": null,
   "id": "66156d20",
   "metadata": {},
   "outputs": [],
   "source": [
    "import matplotlib.pyplot as plt"
   ]
  },
  {
   "cell_type": "code",
   "execution_count": null,
   "id": "418955c5",
   "metadata": {},
   "outputs": [],
   "source": [
    "alpha = data_dict[\"alpha\"]"
   ]
  },
  {
   "cell_type": "code",
   "execution_count": null,
   "id": "cd9ca92d",
   "metadata": {},
   "outputs": [],
   "source": [
    "len([np.linalg.norm(x_row) for x_row in x])"
   ]
  },
  {
   "cell_type": "code",
   "execution_count": null,
   "id": "361f8fe7",
   "metadata": {},
   "outputs": [],
   "source": [
    "plt.boxplot(alpha)"
   ]
  },
  {
   "cell_type": "code",
   "execution_count": null,
   "id": "9c4bea9b",
   "metadata": {},
   "outputs": [],
   "source": [
    "[np.linalg.norm(x_row) for x_row in x][400]"
   ]
  },
  {
   "cell_type": "code",
   "execution_count": null,
   "id": "df90402d",
   "metadata": {},
   "outputs": [],
   "source": [
    "plt.boxplot([np.linalg.norm(x_row) for x_row in x])"
   ]
  },
  {
   "cell_type": "code",
   "execution_count": null,
   "id": "7b5ecc2b",
   "metadata": {},
   "outputs": [],
   "source": [
    "plt.hist(\n",
    "    [np.linalg.norm(x_row) for x_row in x],\n",
    "    bins=50\n",
    ")"
   ]
  },
  {
   "cell_type": "code",
   "execution_count": null,
   "id": "0663c73b",
   "metadata": {},
   "outputs": [],
   "source": [
    "plt.boxplot(y)"
   ]
  },
  {
   "cell_type": "code",
   "execution_count": null,
   "id": "c24bee38",
   "metadata": {},
   "outputs": [],
   "source": [
    "plt.hist(\n",
    "    y,\n",
    "    bins=50\n",
    ")"
   ]
  },
  {
   "cell_type": "code",
   "execution_count": null,
   "id": "9aa0d43e",
   "metadata": {},
   "outputs": [],
   "source": [
    "plt.boxplot(y_tilde)"
   ]
  },
  {
   "cell_type": "code",
   "execution_count": null,
   "id": "b2997992",
   "metadata": {},
   "outputs": [],
   "source": [
    "plt.hist(\n",
    "    y_tilde,\n",
    "    bins=50\n",
    ")"
   ]
  },
  {
   "cell_type": "code",
   "execution_count": null,
   "id": "b5d96e34",
   "metadata": {},
   "outputs": [],
   "source": [
    "efficiencies_df = pd.DataFrame.from_dict(efficiency_scores_dict)"
   ]
  },
  {
   "cell_type": "code",
   "execution_count": null,
   "id": "6e5a0c36",
   "metadata": {},
   "outputs": [],
   "source": [
    "efficiencies_df['theoretical_eff'] = efficiency_score_by_design"
   ]
  },
  {
   "cell_type": "code",
   "execution_count": null,
   "id": "975174b1",
   "metadata": {},
   "outputs": [],
   "source": [
    "plt.hist(efficiencies_df['theoretical_eff'], bins=50)"
   ]
  },
  {
   "cell_type": "code",
   "execution_count": null,
   "id": "21da67e1",
   "metadata": {},
   "outputs": [],
   "source": [
    "efficiencies_df[efficiencies_df.isna().any(axis=1)].sort_values(by='theoretical_eff', ascending=False)"
   ]
  },
  {
   "cell_type": "code",
   "execution_count": null,
   "id": "49198ed2",
   "metadata": {},
   "outputs": [],
   "source": [
    "evaluation_df"
   ]
  },
  {
   "cell_type": "code",
   "execution_count": null,
   "id": "a57822ed",
   "metadata": {},
   "outputs": [],
   "source": [
    "def nan_pearsonr(x, y):\n",
    "    return pd.DataFrame({'x': x, 'y': y}).dropna().corr().iloc[0, 1]"
   ]
  },
  {
   "cell_type": "code",
   "execution_count": null,
   "id": "e9ace2b0",
   "metadata": {},
   "outputs": [],
   "source": [
    "nan_pearsonr(efficiency_scores_dict['original'], efficiency_score_by_design)"
   ]
  },
  {
   "cell_type": "code",
   "execution_count": null,
   "id": "73a52248",
   "metadata": {},
   "outputs": [],
   "source": []
  }
 ],
 "metadata": {
  "kernelspec": {
   "display_name": ".venv",
   "language": "python",
   "name": "python3"
  },
  "language_info": {
   "codemirror_mode": {
    "name": "ipython",
    "version": 3
   },
   "file_extension": ".py",
   "mimetype": "text/x-python",
   "name": "python",
   "nbconvert_exporter": "python",
   "pygments_lexer": "ipython3",
   "version": "3.13.7"
  }
 },
 "nbformat": 4,
 "nbformat_minor": 5
}
