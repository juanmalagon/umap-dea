{
 "cells": [
  {
   "cell_type": "code",
   "execution_count": null,
   "metadata": {},
   "outputs": [],
   "source": [
    "%pip install -r requirements.txt"
   ]
  },
  {
   "cell_type": "code",
   "execution_count": null,
   "metadata": {},
   "outputs": [],
   "source": [
    "import requests\n",
    "requests.packages.urllib3.disable_warnings()\n",
    "import ssl\n",
    "\n",
    "try:\n",
    "    _create_unverified_https_context = ssl._create_unverified_context\n",
    "except AttributeError:\n",
    "    # Legacy Python that doesn't verify HTTPS certificates by default\n",
    "    pass\n",
    "else:\n",
    "    # Handle target environment that doesn't support HTTPS verification\n",
    "    ssl._create_default_https_context = _create_unverified_https_context"
   ]
  },
  {
   "cell_type": "code",
   "execution_count": null,
   "metadata": {},
   "outputs": [],
   "source": [
    "from keras.datasets import mnist\n",
    "import matplotlib.pyplot as plt\n",
    "import numpy as np\n",
    "from time import time\n",
    "from sklearn.svm import SVC\n",
    "from sklearn import metrics\n",
    "from sklearn.metrics import confusion_matrix\n",
    "from sklearn.preprocessing import StandardScaler\n",
    "from sklearn.decomposition import PCA\n",
    "from sklearn.pipeline import Pipeline\n",
    "from sklearn.manifold import TSNE\n",
    "import umap"
   ]
  },
  {
   "cell_type": "code",
   "execution_count": null,
   "metadata": {},
   "outputs": [],
   "source": [
    "# Load mnist dataset\n",
    "(x_train, y_train), (x_test, y_test) = mnist.load_data()"
   ]
  },
  {
   "cell_type": "code",
   "execution_count": null,
   "metadata": {},
   "outputs": [],
   "source": [
    "print(x_train.shape, y_train.shape)\n",
    "print(x_test.shape, y_test.shape)"
   ]
  },
  {
   "cell_type": "code",
   "execution_count": null,
   "metadata": {},
   "outputs": [],
   "source": [
    "# Reshape the 28x28 pixel images into a single 784px vector using .reshape\n",
    "x_train = np.reshape(x_train, (len(x_train), -1))/255\n",
    "x_test = np.reshape(x_test, (len(x_test), -1))/255\n",
    "\n",
    "print(x_train.shape, y_train.shape)\n",
    "print(x_test.shape, y_test.shape)"
   ]
  },
  {
   "cell_type": "code",
   "execution_count": null,
   "metadata": {},
   "outputs": [],
   "source": [
    "# Set number of components to extract and scale each feature to have a variance of 1\n",
    "steps = [('scaling', StandardScaler()), ('pca', PCA(n_components=0.85))]\n",
    "pipeline = Pipeline(steps)\n",
    "pipeline.fit(x_train)"
   ]
  },
  {
   "cell_type": "code",
   "execution_count": null,
   "metadata": {},
   "outputs": [],
   "source": [
    "#Check number of components extracted to account for 85% of the variance\n",
    "pipeline['pca'].n_components_"
   ]
  },
  {
   "cell_type": "code",
   "execution_count": null,
   "metadata": {},
   "outputs": [],
   "source": [
    "reduced = pipeline.inverse_transform(pipeline.transform(x_train))"
   ]
  },
  {
   "cell_type": "code",
   "execution_count": null,
   "metadata": {},
   "outputs": [],
   "source": [
    "# let us visualize the PCA reduced number\n",
    "fig, (ax1, ax2) = plt.subplots(1, 2)\n",
    "ax1.matshow(x_train[0].reshape(28,28), cmap='gray')\n",
    "ax2.matshow(reduced[0].reshape(28,28), cmap='gray')\n",
    "ax1.set_axis_off()\n",
    "ax2.set_axis_off()\n",
    "fig.suptitle(\"Original image VS PCA reduced\".format(y_train[0]))\n",
    "plt.show()"
   ]
  },
  {
   "cell_type": "code",
   "execution_count": null,
   "metadata": {},
   "outputs": [],
   "source": [
    "steps = [('scaling', StandardScaler()), ('clf', SVC())]\n",
    "\n",
    "pipeline = Pipeline(steps)\n",
    "\n",
    "# train\n",
    "t0 = time()\n",
    "pipeline.fit(x_train, y_train)\n",
    "\n",
    "# predict\n",
    "y_pred = pipeline.predict(x_test)\n",
    "\n",
    "# accuracy\n",
    "print(\"accuracy:\", metrics.accuracy_score(y_true=y_test, y_pred=y_pred), \"\\n\")\n",
    "\n",
    "# confusion matrix\n",
    "print(metrics.confusion_matrix(y_true=y_test, y_pred=y_pred))\n",
    "\n",
    "# time taken\n",
    "t_all_feats = time() - t0\n",
    "print(\"Training and classification done in {}s\".format(t_all_feats))"
   ]
  },
  {
   "cell_type": "code",
   "execution_count": null,
   "metadata": {},
   "outputs": [],
   "source": [
    "%%time\n",
    "\n",
    "# define pipeline steps\n",
    "pca_pipeline = Pipeline([\n",
    "    ('scaler', StandardScaler()), \n",
    "    ('dim_reduction', PCA(n_components=2))\n",
    "])\n",
    "\n",
    "pca_results =  pca_pipeline.fit_transform(x_train)\n",
    "\n",
    "# create the scatter plot\n",
    "fig, ax = plt.subplots(figsize=(16,11))\n",
    "scatter = ax.scatter(\n",
    "    x=pca_results[:,0], \n",
    "    y=pca_results[:,1], \n",
    "    c=y_train, \n",
    "    cmap=plt.colormaps.get_cmap('Spectral'), \n",
    "    alpha=0.4)\n",
    "\n",
    "# produce a legend with the colors from the scatter\n",
    "legend = ax.legend(*scatter.legend_elements(), title=\"Classes\",bbox_to_anchor=(1.05, 1), loc='upper left',)\n",
    "ax.add_artist(legend)\n",
    "ax.set_title(\"PCA visualization\")\n",
    "plt.xlabel(\"1st principal component\")\n",
    "plt.ylabel(\"2nd principal component\")\n",
    "plt.show()"
   ]
  },
  {
   "cell_type": "code",
   "execution_count": null,
   "metadata": {},
   "outputs": [],
   "source": [
    "%%time\n",
    "\n",
    "# define pipeline steps\n",
    "tsne_pipeline = Pipeline([\n",
    "    ('scaler', StandardScaler()), \n",
    "    # reduce to 50 PCA components, before t-SNE\n",
    "    # otherwise, it is gonna take forever to finish…\n",
    "    ('dim_reduction', PCA(n_components=50)), \n",
    "    ('2d_reduction',  TSNE(n_components=2, init='pca', random_state=42))\n",
    "])\n",
    "\n",
    "tsne_results =  tsne_pipeline.fit_transform(x_train)\n",
    "\n",
    "# Create the scatter plot\n",
    "fig, ax = plt.subplots(figsize=(16,11))\n",
    "scatter = ax.scatter(\n",
    "    x=tsne_results[:,0], \n",
    "    y=tsne_results[:,1], \n",
    "    c=y_train, \n",
    "    cmap=plt.cm.get_cmap('Spectral'), \n",
    "    alpha=0.4)\n",
    "\n",
    "# produce a legend with the colors from the scatter\n",
    "legend = ax.legend(*scatter.legend_elements(), title=\"Classes\",bbox_to_anchor=(1.05, 1), loc='upper left',)\n",
    "ax.add_artist(legend)\n",
    "ax.set_title(\"t-SNE visualization\")\n",
    "plt.xlabel(\"1st t-SNE component\")\n",
    "plt.ylabel(\"2nd t-SNE component\")\n",
    "plt.show()"
   ]
  },
  {
   "cell_type": "code",
   "execution_count": null,
   "metadata": {},
   "outputs": [],
   "source": [
    "%%time\n",
    "\n",
    "# run UMAP\n",
    "umap_results =  umap.UMAP(n_components=2, random_state=42).fit_transform(x_train)\n",
    "\n",
    "# create the scatter plot\n",
    "fig, ax = plt.subplots(figsize=(16,11))\n",
    "scatter = ax.scatter(\n",
    "    x=umap_results[:,0], \n",
    "    y=umap_results[:,1], \n",
    "    c=y_train, \n",
    "    cmap=plt.cm.get_cmap('Spectral'), \n",
    "    alpha=0.4\n",
    ")\n",
    "\n",
    "# produce a legend with the colors from the scatter\n",
    "legend = ax.legend(*scatter.legend_elements(), title=\"Classes\",bbox_to_anchor=(1.05, 1), loc='upper left',)\n",
    "ax.add_artist(legend)\n",
    "ax.set_title(\"UMAP visualization\")\n",
    "plt.xlabel(\"1st UMAP component\")\n",
    "plt.ylabel(\"2nd UMAP component\")\n",
    "plt.show()"
   ]
  },
  {
   "cell_type": "code",
   "execution_count": null,
   "metadata": {},
   "outputs": [],
   "source": []
  }
 ],
 "metadata": {
  "kernelspec": {
   "display_name": ".venv",
   "language": "python",
   "name": "python3"
  },
  "language_info": {
   "codemirror_mode": {
    "name": "ipython",
    "version": 3
   },
   "file_extension": ".py",
   "mimetype": "text/x-python",
   "name": "python",
   "nbconvert_exporter": "python",
   "pygments_lexer": "ipython3",
   "version": "3.11.3"
  },
  "orig_nbformat": 4
 },
 "nbformat": 4,
 "nbformat_minor": 2
}
