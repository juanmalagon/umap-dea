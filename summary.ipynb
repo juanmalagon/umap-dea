{
 "cells": [
  {
   "cell_type": "code",
   "execution_count": null,
   "metadata": {},
   "outputs": [],
   "source": [
    "import os\n",
    "import pandas as pd"
   ]
  },
  {
   "cell_type": "code",
   "execution_count": null,
   "metadata": {},
   "outputs": [],
   "source": [
    "parent_dir = '/Users/juanmalagon/repos/high-dim-dea'\n",
    "results_dir = os.path.join(parent_dir, 'results')"
   ]
  },
  {
   "cell_type": "code",
   "execution_count": null,
   "metadata": {},
   "outputs": [],
   "source": [
    "os.listdir(results_dir)"
   ]
  },
  {
   "cell_type": "code",
   "execution_count": null,
   "metadata": {},
   "outputs": [],
   "source": [
    "evaluation_df_filenames = [f for f in os.listdir(results_dir) if f.startswith('evaluation_df')]"
   ]
  },
  {
   "cell_type": "code",
   "execution_count": null,
   "metadata": {},
   "outputs": [],
   "source": [
    "evaluation_df = pd.read_csv(os.path.join(results_dir, evaluation_df_filenames[0]),\n",
    "                            index_col=0)"
   ]
  },
  {
   "cell_type": "code",
   "execution_count": null,
   "metadata": {},
   "outputs": [],
   "source": [
    "evaluation_df.head(10)"
   ]
  },
  {
   "cell_type": "code",
   "execution_count": null,
   "metadata": {},
   "outputs": [],
   "source": [
    "summary_df = evaluation_df.groupby('dims').agg(\n",
    "    {'mae': ['mean', 'std'],\n",
    "     'spearmanr': ['mean', 'std'],\n",
    "        'pearsonr': ['mean', 'std'],\n",
    "        'kendalltau': ['mean', 'std']}).reset_index()"
   ]
  },
  {
   "cell_type": "code",
   "execution_count": null,
   "metadata": {},
   "outputs": [],
   "source": [
    "summary_df.columns = ['dims', 'mae_mean', 'mae_std', 'spearmanr_mean', 'spearmanr_std',\n",
    "                        'pearsonr_mean', 'pearsonr_std', 'kendalltau_mean', 'kendalltau_std']"
   ]
  },
  {
   "cell_type": "code",
   "execution_count": null,
   "metadata": {},
   "outputs": [],
   "source": [
    "summary_df.to_csv(os.path.join(results_dir, 'summary_df_9c89a43b-7621-4d7e-8ef4-cbe26da8cf5b.csv'),\n",
    "                    index=False)"
   ]
  }
 ],
 "metadata": {
  "kernelspec": {
   "display_name": ".venv",
   "language": "python",
   "name": "python3"
  },
  "language_info": {
   "codemirror_mode": {
    "name": "ipython",
    "version": 3
   },
   "file_extension": ".py",
   "mimetype": "text/x-python",
   "name": "python",
   "nbconvert_exporter": "python",
   "pygments_lexer": "ipython3",
   "version": "3.10.0"
  }
 },
 "nbformat": 4,
 "nbformat_minor": 2
}
