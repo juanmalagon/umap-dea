{
 "cells": [
  {
   "cell_type": "code",
   "execution_count": null,
   "id": "18ef1d60",
   "metadata": {},
   "outputs": [],
   "source": [
    "# %pip install -r requirements.txt"
   ]
  },
  {
   "cell_type": "code",
   "execution_count": null,
   "id": "496664c2",
   "metadata": {
    "scrolled": true
   },
   "outputs": [],
   "source": [
    "import pandas as pd\n",
    "import numpy as np"
   ]
  },
  {
   "cell_type": "markdown",
   "id": "9f36f3bb",
   "metadata": {},
   "source": [
    "# Data Generating Process"
   ]
  },
  {
   "cell_type": "code",
   "execution_count": null,
   "id": "d7d0a8e5",
   "metadata": {
    "scrolled": true
   },
   "outputs": [],
   "source": [
    "N = 100\n",
    "M = 1\n",
    "n = 50\n",
    "alpha_1 = 0.25\n",
    "gamma = 1\n",
    "epsilon = 0.5"
   ]
  },
  {
   "cell_type": "code",
   "execution_count": null,
   "id": "4225b503",
   "metadata": {
    "scrolled": true
   },
   "outputs": [],
   "source": [
    "print('INITIAL SETUP \\n')\n",
    "print(f'Number of inputs: {N}')\n",
    "print(f'Number of outputs: {M}')\n",
    "print(f'Number of DMUs: {n}')\n",
    "print(f'Parameter alpha_1: {alpha_1}')\n",
    "print(f'Parameter gamma: {gamma}')\n",
    "print(f'Parameter epsilon: {epsilon}')"
   ]
  },
  {
   "cell_type": "code",
   "execution_count": null,
   "id": "fbb85684",
   "metadata": {
    "scrolled": true
   },
   "outputs": [],
   "source": [
    "# Random seeds\n",
    "\n",
    "seed1 = 42\n",
    "seed2 = 420\n",
    "seed3 = 4200\n",
    "seed4 = 42000\n",
    "seed5 = 420000\n",
    "seed6 = 4200000"
   ]
  },
  {
   "cell_type": "markdown",
   "id": "c7529c52",
   "metadata": {},
   "source": [
    "## 1. Generating coefficients"
   ]
  },
  {
   "cell_type": "code",
   "execution_count": null,
   "id": "e6aac2f4",
   "metadata": {
    "scrolled": true
   },
   "outputs": [],
   "source": [
    "np.random.seed(seed1)"
   ]
  },
  {
   "cell_type": "code",
   "execution_count": null,
   "id": "a3896657",
   "metadata": {
    "scrolled": true
   },
   "outputs": [],
   "source": [
    "alpha_tilde = np.random.uniform(0, 1, size=N)"
   ]
  },
  {
   "cell_type": "code",
   "execution_count": null,
   "id": "2c54a0b0",
   "metadata": {
    "scrolled": true
   },
   "outputs": [],
   "source": [
    "alpha_tilde[0] = 0"
   ]
  },
  {
   "cell_type": "code",
   "execution_count": null,
   "id": "ccd2a750",
   "metadata": {
    "scrolled": true
   },
   "outputs": [],
   "source": [
    "alpha = np.divide(alpha_tilde, np.sum(alpha_tilde))*(1-alpha_1)"
   ]
  },
  {
   "cell_type": "code",
   "execution_count": null,
   "id": "bfb603f1",
   "metadata": {
    "scrolled": true
   },
   "outputs": [],
   "source": [
    "alpha[0] = alpha_1"
   ]
  },
  {
   "cell_type": "code",
   "execution_count": null,
   "id": "b36df68c",
   "metadata": {
    "scrolled": true
   },
   "outputs": [],
   "source": [
    "print(\"Normalized coefficients vector alpha:\\n\")\n",
    "print(alpha)\n",
    "print(f\"\\n sum(alpha) = {np.sum(alpha)}\")\n",
    "print(f\"\\n shape of alpha = {alpha.shape}\")"
   ]
  },
  {
   "cell_type": "code",
   "execution_count": null,
   "id": "94b27197",
   "metadata": {
    "scrolled": true
   },
   "outputs": [],
   "source": [
    "np.random.seed(seed2)"
   ]
  },
  {
   "cell_type": "code",
   "execution_count": null,
   "id": "7ba720af",
   "metadata": {
    "scrolled": true
   },
   "outputs": [],
   "source": [
    "beta_tilde = np.random.uniform(0, 1, size=M)"
   ]
  },
  {
   "cell_type": "code",
   "execution_count": null,
   "id": "5891a08a",
   "metadata": {
    "scrolled": true
   },
   "outputs": [],
   "source": [
    "beta = np.divide(beta_tilde, np.sum(beta_tilde))"
   ]
  },
  {
   "cell_type": "code",
   "execution_count": null,
   "id": "1372b158",
   "metadata": {
    "scrolled": true
   },
   "outputs": [],
   "source": [
    "print(\"Normalized coefficients vector beta:\\n\")\n",
    "print(beta)\n",
    "print(f\"\\n sum(beta) = {np.sum(beta)}\")\n",
    "print(f\"\\n shape of beta = {beta.shape}\")"
   ]
  },
  {
   "cell_type": "markdown",
   "id": "102afaea",
   "metadata": {},
   "source": [
    "## 2. Generate efficient outputs"
   ]
  },
  {
   "cell_type": "code",
   "execution_count": null,
   "id": "3c9bb3bf",
   "metadata": {
    "scrolled": true
   },
   "outputs": [],
   "source": [
    "np.random.seed(seed3)"
   ]
  },
  {
   "cell_type": "code",
   "execution_count": null,
   "id": "a516b443",
   "metadata": {
    "scrolled": true
   },
   "outputs": [],
   "source": [
    "y_tilde = np.random.uniform(0.1, 1, size=(n, M))"
   ]
  },
  {
   "cell_type": "code",
   "execution_count": null,
   "id": "6c2411e6",
   "metadata": {
    "scrolled": true
   },
   "outputs": [],
   "source": [
    "print(f\"y_tilde:\\n\\n {y_tilde}\")"
   ]
  },
  {
   "cell_type": "code",
   "execution_count": null,
   "id": "e49b41e1",
   "metadata": {
    "scrolled": true
   },
   "outputs": [],
   "source": [
    "print(y_tilde.shape)"
   ]
  },
  {
   "cell_type": "markdown",
   "id": "2b5f5285",
   "metadata": {},
   "source": [
    "## 3. Generate N-1 inputs"
   ]
  },
  {
   "cell_type": "code",
   "execution_count": null,
   "id": "4a38b31c",
   "metadata": {
    "scrolled": true
   },
   "outputs": [],
   "source": [
    "np.random.seed(seed4)"
   ]
  },
  {
   "cell_type": "code",
   "execution_count": null,
   "id": "d3a8e39b",
   "metadata": {
    "scrolled": true
   },
   "outputs": [],
   "source": [
    "x = np.random.uniform(0.1, 1, size=(n, N))"
   ]
  },
  {
   "cell_type": "code",
   "execution_count": null,
   "id": "75ab2193",
   "metadata": {
    "scrolled": true
   },
   "outputs": [],
   "source": [
    "x"
   ]
  },
  {
   "cell_type": "code",
   "execution_count": null,
   "id": "6efc20a3",
   "metadata": {
    "scrolled": true
   },
   "outputs": [],
   "source": [
    "x.shape"
   ]
  },
  {
   "cell_type": "code",
   "execution_count": null,
   "id": "36736d56",
   "metadata": {
    "scrolled": true
   },
   "outputs": [],
   "source": [
    "x[:,0] = 1"
   ]
  },
  {
   "cell_type": "code",
   "execution_count": null,
   "id": "b2791b3c",
   "metadata": {
    "scrolled": true
   },
   "outputs": [],
   "source": [
    "x[:,0].shape"
   ]
  },
  {
   "cell_type": "code",
   "execution_count": null,
   "id": "21dda401",
   "metadata": {
    "scrolled": true
   },
   "outputs": [],
   "source": [
    "x"
   ]
  },
  {
   "cell_type": "markdown",
   "id": "f2e4789d",
   "metadata": {},
   "source": [
    "## 4. Generate first input"
   ]
  },
  {
   "cell_type": "code",
   "execution_count": null,
   "id": "e1512a3d",
   "metadata": {
    "scrolled": true
   },
   "outputs": [],
   "source": [
    "x_power_alpha = np.array([x[i,:]**alpha for i in range(n)])"
   ]
  },
  {
   "cell_type": "code",
   "execution_count": null,
   "id": "d53afd7b",
   "metadata": {
    "scrolled": true
   },
   "outputs": [],
   "source": [
    "x_power_alpha"
   ]
  },
  {
   "cell_type": "code",
   "execution_count": null,
   "id": "cf5067f0",
   "metadata": {
    "scrolled": true
   },
   "outputs": [],
   "source": [
    "x_power_alpha.shape"
   ]
  },
  {
   "cell_type": "code",
   "execution_count": null,
   "id": "67cb86b8",
   "metadata": {
    "scrolled": true
   },
   "outputs": [],
   "source": [
    "x_power_alpha_productory = np.array([np.prod(x_power_alpha[i,:]) for i in range(n)])"
   ]
  },
  {
   "cell_type": "code",
   "execution_count": null,
   "id": "cc11ec4c",
   "metadata": {
    "scrolled": true
   },
   "outputs": [],
   "source": [
    "x_power_alpha_productory"
   ]
  },
  {
   "cell_type": "code",
   "execution_count": null,
   "id": "f2ad54a1",
   "metadata": {
    "scrolled": true
   },
   "outputs": [],
   "source": [
    "x_power_alpha_productory.shape"
   ]
  },
  {
   "cell_type": "code",
   "execution_count": null,
   "id": "83d35117",
   "metadata": {
    "scrolled": true
   },
   "outputs": [],
   "source": [
    "y_tilde_squared = y_tilde**2"
   ]
  },
  {
   "cell_type": "code",
   "execution_count": null,
   "id": "c319577e",
   "metadata": {
    "scrolled": true
   },
   "outputs": [],
   "source": [
    "y_tilde_squared"
   ]
  },
  {
   "cell_type": "code",
   "execution_count": null,
   "id": "785d7551",
   "metadata": {
    "scrolled": true
   },
   "outputs": [],
   "source": [
    "y_tilde_squared.shape"
   ]
  },
  {
   "cell_type": "code",
   "execution_count": null,
   "id": "7b6df098",
   "metadata": {
    "scrolled": true
   },
   "outputs": [],
   "source": [
    "beta.shape"
   ]
  },
  {
   "cell_type": "code",
   "execution_count": null,
   "id": "72984a52",
   "metadata": {
    "scrolled": true
   },
   "outputs": [],
   "source": [
    "y_tilde_squared_dot_beta = np.matmul(y_tilde_squared, beta)"
   ]
  },
  {
   "cell_type": "code",
   "execution_count": null,
   "id": "54afa0fb",
   "metadata": {
    "scrolled": true
   },
   "outputs": [],
   "source": [
    "y_tilde_squared_dot_beta"
   ]
  },
  {
   "cell_type": "code",
   "execution_count": null,
   "id": "12bea329",
   "metadata": {
    "scrolled": true
   },
   "outputs": [],
   "source": [
    "y_tilde_squared_dot_beta.shape"
   ]
  },
  {
   "cell_type": "code",
   "execution_count": null,
   "id": "13103c2d",
   "metadata": {
    "scrolled": true
   },
   "outputs": [],
   "source": [
    "y_numerator = (np.sqrt(y_tilde_squared_dot_beta))**(1/gamma)"
   ]
  },
  {
   "cell_type": "code",
   "execution_count": null,
   "id": "7cd6dbdf",
   "metadata": {
    "scrolled": true
   },
   "outputs": [],
   "source": [
    "y_numerator"
   ]
  },
  {
   "cell_type": "code",
   "execution_count": null,
   "id": "1f6eaf92",
   "metadata": {
    "scrolled": true
   },
   "outputs": [],
   "source": [
    "y_numerator.shape"
   ]
  },
  {
   "cell_type": "code",
   "execution_count": null,
   "id": "ebef3f4f",
   "metadata": {
    "scrolled": true
   },
   "outputs": [],
   "source": [
    "x_1 = np.divide(y_numerator, x_power_alpha_productory)"
   ]
  },
  {
   "cell_type": "code",
   "execution_count": null,
   "id": "451e0cea",
   "metadata": {
    "scrolled": true
   },
   "outputs": [],
   "source": [
    "x_1"
   ]
  },
  {
   "cell_type": "code",
   "execution_count": null,
   "id": "c5b27edb",
   "metadata": {
    "scrolled": true
   },
   "outputs": [],
   "source": [
    "x_1.shape"
   ]
  },
  {
   "cell_type": "code",
   "execution_count": null,
   "id": "e278e085",
   "metadata": {
    "scrolled": true
   },
   "outputs": [],
   "source": [
    "x[:,0] = x_1"
   ]
  },
  {
   "cell_type": "code",
   "execution_count": null,
   "id": "c17d1a08",
   "metadata": {
    "scrolled": true
   },
   "outputs": [],
   "source": [
    "x"
   ]
  },
  {
   "cell_type": "code",
   "execution_count": null,
   "id": "57ec1faa",
   "metadata": {
    "scrolled": true
   },
   "outputs": [],
   "source": [
    "x.shape"
   ]
  },
  {
   "cell_type": "markdown",
   "id": "c2ab20f9",
   "metadata": {},
   "source": [
    "##"
   ]
  },
  {
   "cell_type": "markdown",
   "id": "9b39fcc0",
   "metadata": {},
   "source": [
    "## 5. Incorporate inefficiency factor"
   ]
  },
  {
   "cell_type": "code",
   "execution_count": null,
   "id": "68ad15f7",
   "metadata": {
    "scrolled": true
   },
   "outputs": [],
   "source": [
    "u = np.random.normal(0, 1, size=(n, M))"
   ]
  },
  {
   "cell_type": "code",
   "execution_count": null,
   "id": "96cf1f63",
   "metadata": {
    "scrolled": true
   },
   "outputs": [],
   "source": [
    "u = np.abs(u)"
   ]
  },
  {
   "cell_type": "code",
   "execution_count": null,
   "id": "cff759c9",
   "metadata": {
    "scrolled": true
   },
   "outputs": [],
   "source": [
    "y = y_tilde*np.exp(-u)"
   ]
  },
  {
   "cell_type": "markdown",
   "id": "8e8ce886",
   "metadata": {},
   "source": [
    "## 6. Export results"
   ]
  },
  {
   "cell_type": "code",
   "execution_count": null,
   "id": "57e0692d",
   "metadata": {
    "scrolled": true
   },
   "outputs": [],
   "source": [
    "# pd.DataFrame(x).to_csv(\"../mc_simulation/inputs.csv\", index=True)"
   ]
  },
  {
   "cell_type": "code",
   "execution_count": null,
   "id": "b4b42606",
   "metadata": {
    "scrolled": true
   },
   "outputs": [],
   "source": [
    "# pd.DataFrame(y).to_csv(\"../mc_simulation/outputs.csv\", index=False)"
   ]
  },
  {
   "cell_type": "markdown",
   "id": "e7e85890",
   "metadata": {},
   "source": [
    "## 7. Dimensionality reduction"
   ]
  },
  {
   "cell_type": "code",
   "execution_count": null,
   "id": "8e511c6f",
   "metadata": {
    "scrolled": true
   },
   "outputs": [],
   "source": [
    "import numpy as np\n",
    "import matplotlib.pyplot as plt\n",
    "from mpl_toolkits.mplot3d import Axes3D\n",
    "import seaborn as sns\n",
    "import umap\n",
    "%matplotlib inline"
   ]
  },
  {
   "cell_type": "code",
   "execution_count": null,
   "id": "825d971e",
   "metadata": {
    "scrolled": true
   },
   "outputs": [],
   "source": [
    "sns.set(style='white', context='poster', rc={'figure.figsize':(14,10)})"
   ]
  },
  {
   "cell_type": "code",
   "execution_count": null,
   "id": "2c5fe06c",
   "metadata": {
    "scrolled": true
   },
   "outputs": [],
   "source": [
    "np.random.seed(seed5)"
   ]
  },
  {
   "cell_type": "code",
   "execution_count": null,
   "id": "2e90d189",
   "metadata": {
    "scrolled": true
   },
   "outputs": [],
   "source": [
    "fit = umap.UMAP()\n",
    "%time u = fit.fit_transform(x)"
   ]
  },
  {
   "cell_type": "code",
   "execution_count": null,
   "id": "09e1d146",
   "metadata": {
    "scrolled": true
   },
   "outputs": [],
   "source": [
    "sc = plt.scatter(u[:,0], u[:,1], c=y, s=(10**3)*y)\n",
    "plt.legend(*sc.legend_elements(alpha=1, num=20), \n",
    "           bbox_to_anchor=(0.5,-0.08), \n",
    "           loc= 'upper center',\n",
    "           ncol=9\n",
    "          )\n",
    "plt.title('UMAP embedding of input variables');"
   ]
  },
  {
   "cell_type": "code",
   "execution_count": null,
   "id": "ddb0df70",
   "metadata": {
    "scrolled": true
   },
   "outputs": [],
   "source": [
    "def draw_umap(n_neighbors=15, min_dist=0.1, n_components=2, metric='euclidean', title=''):\n",
    "    fit = umap.UMAP(\n",
    "        n_neighbors=n_neighbors,\n",
    "        min_dist=min_dist,\n",
    "        n_components=n_components,\n",
    "        metric=metric\n",
    "    )\n",
    "    u = fit.fit_transform(x);\n",
    "    fig = plt.figure()\n",
    "    if n_components == 1:\n",
    "        ax = fig.add_subplot(111)\n",
    "        ax.scatter(u[:,0], range(len(u)), c=y, s=(10**3)*y)\n",
    "    if n_components == 2:\n",
    "        ax = fig.add_subplot(111)\n",
    "        ax.scatter(u[:,0], u[:,1], c=y, s=(10**3)*y)\n",
    "    if n_components == 3:\n",
    "        ax = fig.add_subplot(111, projection='3d')\n",
    "        ax.scatter(u[:,0], u[:,1], u[:,2], c=y, s=(10**3)*y)\n",
    "    plt.title(title, fontsize=18)"
   ]
  },
  {
   "cell_type": "code",
   "execution_count": null,
   "id": "81467b08",
   "metadata": {
    "scrolled": false
   },
   "outputs": [],
   "source": [
    "for n in (2, 5):\n",
    "    draw_umap(n_neighbors=n, title='n_neighbors = {}'.format(n))"
   ]
  },
  {
   "cell_type": "code",
   "execution_count": null,
   "id": "96c4c7f1",
   "metadata": {
    "scrolled": false
   },
   "outputs": [],
   "source": [
    "for d in (0.0, 0.8):\n",
    "    draw_umap(min_dist=d, title='min_dist = {}'.format(d))"
   ]
  },
  {
   "cell_type": "code",
   "execution_count": null,
   "id": "1e302bd6",
   "metadata": {
    "scrolled": false
   },
   "outputs": [],
   "source": [
    "draw_umap(n_components=1, title='n_components = 1')"
   ]
  },
  {
   "cell_type": "code",
   "execution_count": null,
   "id": "796d77d0",
   "metadata": {
    "scrolled": false
   },
   "outputs": [],
   "source": [
    "draw_umap(n_components=3, title='n_components = 3')"
   ]
  },
  {
   "cell_type": "code",
   "execution_count": null,
   "id": "d23cf282",
   "metadata": {
    "scrolled": false
   },
   "outputs": [],
   "source": [
    "fit = umap.UMAP(\n",
    "    n_components=2,\n",
    ")\n",
    "u = fit.fit_transform(x)"
   ]
  },
  {
   "cell_type": "code",
   "execution_count": null,
   "id": "f49edb33",
   "metadata": {},
   "outputs": [],
   "source": [
    "# pd.DataFrame(u).to_csv(\"../mc_simulation/inputs_umap_02_dims.csv\", index=True)"
   ]
  },
  {
   "cell_type": "code",
   "execution_count": null,
   "id": "44332467",
   "metadata": {},
   "outputs": [],
   "source": [
    "fit = umap.UMAP(\n",
    "    n_components=5,\n",
    ")\n",
    "u = fit.fit_transform(x)"
   ]
  },
  {
   "cell_type": "code",
   "execution_count": null,
   "id": "438fa5db",
   "metadata": {},
   "outputs": [],
   "source": [
    "# pd.DataFrame(u).to_csv(\"../mc_simulation/inputs_umap_05_dims.csv\", index=True)"
   ]
  },
  {
   "cell_type": "code",
   "execution_count": null,
   "id": "aa6d8edf",
   "metadata": {},
   "outputs": [],
   "source": [
    "fit = umap.UMAP(\n",
    "    n_components=20,\n",
    ")\n",
    "u = fit.fit_transform(x)"
   ]
  },
  {
   "cell_type": "code",
   "execution_count": null,
   "metadata": {},
   "outputs": [],
   "source": [
    "# pd.DataFrame(u).to_csv(\"../mc_simulation/inputs_umap_20_dims.csv\", index=True)"
   ]
  },
  {
   "cell_type": "code",
   "execution_count": null,
   "id": "7b573cd2",
   "metadata": {},
   "outputs": [],
   "source": [
    "fit = umap.UMAP(\n",
    "    n_components=30,\n",
    ")\n",
    "u = fit.fit_transform(x)"
   ]
  },
  {
   "cell_type": "code",
   "execution_count": null,
   "metadata": {},
   "outputs": [],
   "source": [
    "# pd.DataFrame(u).to_csv(\"../mc_simulation/inputs_umap_30_dims.csv\", index=True)"
   ]
  },
  {
   "cell_type": "code",
   "execution_count": null,
   "id": "d230640f",
   "metadata": {},
   "outputs": [],
   "source": [
    "fit = umap.UMAP(\n",
    "    n_components=40,\n",
    ")\n",
    "u = fit.fit_transform(x)"
   ]
  },
  {
   "cell_type": "code",
   "execution_count": null,
   "metadata": {},
   "outputs": [],
   "source": [
    "# pd.DataFrame(u).to_csv(\"../mc_simulation/inputs_umap_40_dims.csv\", index=True)"
   ]
  },
  {
   "cell_type": "code",
   "execution_count": null,
   "metadata": {},
   "outputs": [],
   "source": []
  }
 ],
 "metadata": {
  "kernelspec": {
   "display_name": "Python 3 (ipykernel)",
   "language": "python",
   "name": "python3"
  },
  "language_info": {
   "codemirror_mode": {
    "name": "ipython",
    "version": 3
   },
   "file_extension": ".py",
   "mimetype": "text/x-python",
   "name": "python",
   "nbconvert_exporter": "python",
   "pygments_lexer": "ipython3",
   "version": "3.11.3"
  }
 },
 "nbformat": 4,
 "nbformat_minor": 5
}
