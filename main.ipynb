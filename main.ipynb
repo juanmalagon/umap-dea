{
 "cells": [
  {
   "cell_type": "code",
   "execution_count": null,
   "id": "496664c2",
   "metadata": {
    "scrolled": true
   },
   "outputs": [],
   "source": [
    "import os\n",
    "\n",
    "from wrapper import wrapper_function"
   ]
  },
  {
   "cell_type": "code",
   "execution_count": null,
   "id": "6d2944e4",
   "metadata": {},
   "outputs": [],
   "source": [
    "parent_dir = '/Users/juanmalagon/repos/high-dim-dea'\n",
    "results_dir = os.path.join(parent_dir, 'results')"
   ]
  },
  {
   "cell_type": "code",
   "execution_count": null,
   "id": "619e7787",
   "metadata": {},
   "outputs": [],
   "source": [
    "params_set_wish = {\n",
    "    'N_list': [20, 50, 100, 500],\n",
    "    'n_list': [20, 50, 100, 200, 500, 1000],\n",
    "    'gamma_list': [0.5, 1],\n",
    "    'rts_list': ['crs', 'vrs'],\n",
    "}"
   ]
  },
  {
   "cell_type": "code",
   "execution_count": null,
   "id": "270368f9",
   "metadata": {},
   "outputs": [],
   "source": [
    "params_set_run_100 = {\n",
    "    'N_list': [100],\n",
    "    'n_list': [20, 50, 100, 200],\n",
    "    'gamma_list': [1],\n",
    "    'rts_list': ['crs'],\n",
    "    'alpha_1':[0.25]\n",
    "}"
   ]
  },
  {
   "cell_type": "code",
   "execution_count": null,
   "id": "c9573166",
   "metadata": {},
   "outputs": [],
   "source": [
    "params_set_run_20 = {\n",
    "    'N_list': [20],\n",
    "    'n_list': [20, 50, 100, 200],\n",
    "    'gamma_list': [1],\n",
    "    'rts_list': ['crs'],\n",
    "    'alpha_1':['1/N']\n",
    "}"
   ]
  },
  {
   "cell_type": "code",
   "execution_count": null,
   "id": "e5a1f98e",
   "metadata": {},
   "outputs": [],
   "source": [
    "params_set_run_50 = {\n",
    "    'N_list': [50],\n",
    "    'n_list': [20, 50, 100, 200],\n",
    "    'gamma_list': [1],\n",
    "    'rts_list': ['crs'],\n",
    "    'alpha_1':['1/N']\n",
    "}"
   ]
  },
  {
   "cell_type": "code",
   "execution_count": null,
   "id": "67761063",
   "metadata": {},
   "outputs": [],
   "source": [
    "params_set_run_200 = {\n",
    "    'N_list': [200],\n",
    "    'n_list': [200],\n",
    "    'gamma_list': [1],\n",
    "    'rts_list': ['crs'],\n",
    "    'alpha_1':['1/N']\n",
    "}"
   ]
  },
  {
   "cell_type": "code",
   "execution_count": null,
   "id": "d7d0a8e5",
   "metadata": {
    "scrolled": true
   },
   "outputs": [],
   "source": [
    "## Set up initial variables\n",
    "\n",
    "N = 50\n",
    "M = 1\n",
    "n = 20\n",
    "alpha_1 = 1/N\n",
    "gamma = 1\n",
    "sigma_u = 0.5\n",
    "rts='crs'\n",
    "orientation='input'\n",
    "nr_simulations = 1_000\n",
    "seed = 42"
   ]
  },
  {
   "cell_type": "code",
   "execution_count": null,
   "id": "2c2506ba",
   "metadata": {},
   "outputs": [],
   "source": [
    "params_dict = {\n",
    "    'N': N,\n",
    "    'M': M,\n",
    "    'n': n,\n",
    "    'alpha_1': alpha_1,\n",
    "    'gamma': gamma,\n",
    "    'sigma_u': sigma_u,\n",
    "    'rts': rts,\n",
    "    'orientation': orientation,\n",
    "    'nr_simulations': nr_simulations,\n",
    "    'seed': seed\n",
    "}"
   ]
  },
  {
   "cell_type": "code",
   "execution_count": null,
   "id": "fee3f04c",
   "metadata": {},
   "outputs": [],
   "source": [
    "wrapper_function(params_dict, results_dir)"
   ]
  }
 ],
 "metadata": {
  "kernelspec": {
   "display_name": "Python 3 (ipykernel)",
   "language": "python",
   "name": "python3"
  },
  "language_info": {
   "codemirror_mode": {
    "name": "ipython",
    "version": 3
   },
   "file_extension": ".py",
   "mimetype": "text/x-python",
   "name": "python",
   "nbconvert_exporter": "python",
   "pygments_lexer": "ipython3",
   "version": "3.10.0"
  }
 },
 "nbformat": 4,
 "nbformat_minor": 5
}
