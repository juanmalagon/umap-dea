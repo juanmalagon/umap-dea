{
 "cells": [
  {
   "cell_type": "code",
   "execution_count": null,
   "id": "1d499b82",
   "metadata": {},
   "outputs": [],
   "source": [
    "# !pip install -r requirements.txt"
   ]
  },
  {
   "cell_type": "code",
   "execution_count": null,
   "id": "496664c2",
   "metadata": {
    "scrolled": true
   },
   "outputs": [],
   "source": [
    "import os\n",
    "\n",
    "from wrapper import wrapper_function"
   ]
  },
  {
   "cell_type": "code",
   "execution_count": null,
   "id": "92d0ffa4",
   "metadata": {},
   "outputs": [],
   "source": [
    "os.getcwd()"
   ]
  },
  {
   "cell_type": "code",
   "execution_count": null,
   "id": "6d2944e4",
   "metadata": {},
   "outputs": [],
   "source": [
    "parent_dir = os.getcwd()\n",
    "results_dir = os.path.join(parent_dir, 'results')"
   ]
  },
  {
   "cell_type": "code",
   "execution_count": null,
   "id": "619e7787",
   "metadata": {},
   "outputs": [],
   "source": [
    "params_set_wish = {\n",
    "    'N_list': [20, 50, 100, 500],\n",
    "    'n_list': [20, 50, 100, 200, 500, 1000],\n",
    "    'gamma_list': [0.5, 1],\n",
    "    'rts_list': ['crs', 'vrs'],\n",
    "    'alpha_1_list': [0.25],\n",
    "}"
   ]
  },
  {
   "cell_type": "code",
   "execution_count": null,
   "id": "d7d0a8e5",
   "metadata": {
    "scrolled": true
   },
   "outputs": [],
   "source": [
    "## Set up initial variables\n",
    "\n",
    "N = 100\n",
    "M = 1\n",
    "n = 20\n",
    "alpha_1 = 0.25\n",
    "gamma = 1\n",
    "sigma_u = 0.5\n",
    "rts='vrs'\n",
    "orientation='input'\n",
    "nr_simulations = 1_000\n",
    "seed = 42\n",
    "pca=False"
   ]
  },
  {
   "cell_type": "code",
   "execution_count": null,
   "id": "a6ae580f",
   "metadata": {},
   "outputs": [],
   "source": [
    "for N in [20, 50, 100, 200]:\n",
    "    for n in [500, 1000]:\n",
    "        params_dict = {\n",
    "            'N': N,\n",
    "            'M': M,\n",
    "            'n': n,\n",
    "            'alpha_1': alpha_1,\n",
    "            'gamma': gamma,\n",
    "            'sigma_u': sigma_u,\n",
    "            'rts': rts,\n",
    "            'orientation': orientation,\n",
    "            'nr_simulations': nr_simulations,\n",
    "            'seed': seed,\n",
    "            'pca': pca\n",
    "        }\n",
    "        wrapper_function(params_dict, results_dir=results_dir)"
   ]
  }
 ],
 "metadata": {
  "kernelspec": {
   "display_name": ".venv",
   "language": "python",
   "name": "python3"
  },
  "language_info": {
   "codemirror_mode": {
    "name": "ipython",
    "version": 3
   },
   "file_extension": ".py",
   "mimetype": "text/x-python",
   "name": "python",
   "nbconvert_exporter": "python",
   "pygments_lexer": "ipython3",
   "version": "3.13.6"
  }
 },
 "nbformat": 4,
 "nbformat_minor": 5
}
