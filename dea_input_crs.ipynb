{
  "cells": [
    {
      "cell_type": "code",
      "execution_count": null,
      "metadata": {},
      "outputs": [],
      "source": [
        "#%pip install Pyfrontier"
      ]
    },
    {
      "cell_type": "code",
      "execution_count": null,
      "metadata": {
        "collapsed": false
      },
      "outputs": [],
      "source": [
        "import matplotlib.pyplot as plt\n",
        "import pandas as pd\n",
        "\n",
        "from Pyfrontier.frontier_model import EnvelopDEA\n",
        "\n",
        "supply_chain_df = pd.DataFrame(\n",
        "    {\"day\": [1, 2, 4, 6, 4], \"cost\": [5, 2, 1, 1, 4], \"profit\": [15, 15, 15, 15, 15]}\n",
        ")\n",
        "supply_chain_df"
      ]
    },
    {
      "cell_type": "code",
      "execution_count": null,
      "metadata": {
        "collapsed": false
      },
      "outputs": [],
      "source": [
        "dea = EnvelopDEA(\"CRS\", \"in\")\n",
        "dea.fit(\n",
        "    supply_chain_df[[\"day\", \"cost\"]].to_numpy(),\n",
        "    supply_chain_df[[\"profit\"]].to_numpy(),\n",
        ")"
      ]
    },
    {
      "cell_type": "code",
      "execution_count": null,
      "metadata": {},
      "outputs": [],
      "source": [
        "dea.result[0]"
      ]
    },
    {
      "cell_type": "code",
      "execution_count": null,
      "metadata": {
        "collapsed": false
      },
      "outputs": [],
      "source": [
        "eff_dmu = [r.dmu for r in dea.result if r.is_efficient]\n",
        "ineff_dmu = [r.dmu for r in dea.result if r.is_efficient != 1]\n",
        "weak_eff_dmu = [r.dmu for r in dea.result if r.has_slack]\n",
        "\n",
        "plt.figure()\n",
        "plt.plot(\n",
        "    [d.input[0] for d in eff_dmu],\n",
        "    [d.input[1] for d in eff_dmu],\n",
        "    \"-o\",\n",
        "    label=\"efficient dmu\",\n",
        ")\n",
        "plt.plot(\n",
        "    [d.input[0] for d in ineff_dmu],\n",
        "    [d.input[1] for d in ineff_dmu],\n",
        "    \"o\",\n",
        "    label=\"not-efficient dmu\",\n",
        ")\n",
        "plt.plot(\n",
        "    [d.input[0] for d in weak_eff_dmu],\n",
        "    [d.input[1] for d in weak_eff_dmu],\n",
        "    \"o\",\n",
        "    label=\"weak-efficient dmu\",\n",
        ")\n",
        "plt.plot([4, 6], [1, 1], linestyle=\"--\", color=\"black\")\n",
        "plt.legend()\n",
        "plt.show()"
      ]
    },
    {
      "cell_type": "code",
      "execution_count": null,
      "metadata": {
        "collapsed": false
      },
      "outputs": [],
      "source": [
        "print([r.score for r in dea.result])\n",
        "print([r.is_efficient for r in dea.result])\n",
        "print([r.has_slack for r in dea.result])\n",
        "\n",
        "print(dea.result[-2].x_slack, dea.result[-2].y_slack)"
      ]
    }
  ],
  "metadata": {
    "kernelspec": {
      "display_name": "Python 3",
      "language": "python",
      "name": "python3"
    },
    "language_info": {
      "codemirror_mode": {
        "name": "ipython",
        "version": 3
      },
      "file_extension": ".py",
      "mimetype": "text/x-python",
      "name": "python",
      "nbconvert_exporter": "python",
      "pygments_lexer": "ipython3",
      "version": "3.10.0"
    }
  },
  "nbformat": 4,
  "nbformat_minor": 0
}
