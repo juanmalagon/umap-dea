{
  "cells": [
    {
      "cell_type": "code",
      "execution_count": null,
      "metadata": {},
      "outputs": [],
      "source": [
        "#%pip install Pyfrontier"
      ]
    },
    {
      "cell_type": "code",
      "execution_count": null,
      "metadata": {
        "collapsed": false
      },
      "outputs": [],
      "source": [
        "import matplotlib.pyplot as plt\n",
        "import pandas as pd\n",
        "\n",
        "from Pyfrontier.frontier_model import EnvelopDEA\n",
        "\n",
        "rent_average_df = pd.DataFrame(\n",
        "    {\"rent\": [5, 5, 5, 5], \"n_room\": [6, 5, 2, 3.0], \"n_storage\": [2, 3.5, 5, 3.5]}\n",
        ")\n",
        "rent_average_df"
      ]
    },
    {
      "cell_type": "code",
      "execution_count": null,
      "metadata": {
        "collapsed": false
      },
      "outputs": [],
      "source": [
        "dea = EnvelopDEA(\"CRS\", \"out\")\n",
        "dea.fit(\n",
        "    rent_average_df[[\"rent\"]].to_numpy(),\n",
        "    rent_average_df[[\"n_room\", \"n_storage\"]].to_numpy(),\n",
        ")\n",
        "\n",
        "dea.result[0]"
      ]
    },
    {
      "cell_type": "code",
      "execution_count": null,
      "metadata": {
        "collapsed": false
      },
      "outputs": [],
      "source": [
        "eff_dmu = [r.dmu for r in dea.result if r.is_efficient]\n",
        "ineff_dmu = [r.dmu for r in dea.result if r.is_efficient != 1]\n",
        "\n",
        "plt.figure()\n",
        "plt.plot(\n",
        "    [d.output[0] for d in eff_dmu],\n",
        "    [d.output[1] for d in eff_dmu],\n",
        "    \"-o\",\n",
        "    label=\"efficient dmu\",\n",
        ")\n",
        "plt.plot(\n",
        "    [d.output[0] for d in ineff_dmu],\n",
        "    [d.output[1] for d in ineff_dmu],\n",
        "    \"o\",\n",
        "    label=\"not-efficient dmu\",\n",
        ")\n",
        "plt.plot([6, 6], [2, 0], color=\"C0\")\n",
        "plt.plot([2, 0], [5, 5], color=\"C0\")\n",
        "plt.plot([0, 3.6], [0, 4.2], color=\"black\", linestyle=\"--\")\n",
        "\n",
        "plt.legend()\n",
        "plt.show()"
      ]
    },
    {
      "cell_type": "code",
      "execution_count": null,
      "metadata": {
        "collapsed": false
      },
      "outputs": [],
      "source": [
        "print([r.score for r in dea.result])\n",
        "print([r.is_efficient for r in dea.result])\n",
        "print([r.has_slack for r in dea.result])\n",
        "\n",
        "print(dea.result[-2].x_slack, dea.result[-2].y_slack)"
      ]
    }
  ],
  "metadata": {
    "kernelspec": {
      "display_name": "Python 3",
      "language": "python",
      "name": "python3"
    },
    "language_info": {
      "codemirror_mode": {
        "name": "ipython",
        "version": 3
      },
      "file_extension": ".py",
      "mimetype": "text/x-python",
      "name": "python",
      "nbconvert_exporter": "python",
      "pygments_lexer": "ipython3",
      "version": "3.10.0"
    }
  },
  "nbformat": 4,
  "nbformat_minor": 0
}
