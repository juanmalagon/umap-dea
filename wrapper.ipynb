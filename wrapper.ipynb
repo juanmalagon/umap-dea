{
 "cells": [
  {
   "cell_type": "code",
   "execution_count": null,
   "id": "496664c2",
   "metadata": {
    "scrolled": true
   },
   "outputs": [],
   "source": [
    "import os\n",
    "import pandas as pd\n",
    "import numpy as np\n",
    "import json\n",
    "from uuid import uuid4\n",
    "\n",
    "import data_generating_process as dgp\n",
    "import dimensionality_reduction as dr\n",
    "import calculate_dea as cdea\n",
    "import evaluate_results as er"
   ]
  },
  {
   "cell_type": "code",
   "execution_count": null,
   "id": "793b49bd",
   "metadata": {},
   "outputs": [],
   "source": [
    "run_serial = str(uuid4())"
   ]
  },
  {
   "cell_type": "code",
   "execution_count": null,
   "id": "6d2944e4",
   "metadata": {},
   "outputs": [],
   "source": [
    "parent_dir = '/Users/juanmalagon/repos/high-dim-dea'\n",
    "results_dir = os.path.join(parent_dir, 'results')"
   ]
  },
  {
   "cell_type": "code",
   "execution_count": null,
   "id": "d7d0a8e5",
   "metadata": {
    "scrolled": true
   },
   "outputs": [],
   "source": [
    "## Set up initial variables\n",
    "\n",
    "N = 100\n",
    "M = 1\n",
    "n = 200\n",
    "alpha_1 = 1/N\n",
    "gamma = 1\n",
    "sigma_u = 0.5\n",
    "rts='crs'\n",
    "orientation='input'\n",
    "nr_simulations = 1_000\n",
    "seed = 42"
   ]
  },
  {
   "cell_type": "code",
   "execution_count": null,
   "id": "81755bd5",
   "metadata": {},
   "outputs": [],
   "source": [
    "np.random.seed(seed)"
   ]
  },
  {
   "cell_type": "code",
   "execution_count": null,
   "id": "4225b503",
   "metadata": {
    "scrolled": true
   },
   "outputs": [],
   "source": [
    "print('INITIAL SETUP \\n')\n",
    "print(f'Number of inputs: {N}')\n",
    "print(f'Number of outputs: {M}')\n",
    "print(f'Number of DMUs: {n}')\n",
    "print(f'Parameter alpha_1: {alpha_1}')\n",
    "print(f'Parameter gamma: {gamma}')\n",
    "print(f'Parameter sigma_u: {sigma_u}')\n",
    "print(f'Return to scale: {rts}')\n",
    "print(f'Orientation: {orientation}')\n",
    "print(f'Number of simulations: {nr_simulations}')\n",
    "print(f'Seed: {seed}')"
   ]
  },
  {
   "cell_type": "code",
   "execution_count": null,
   "id": "2c2506ba",
   "metadata": {},
   "outputs": [],
   "source": [
    "params_dict = {\n",
    "    'N': N,\n",
    "    'M': M,\n",
    "    'n': n,\n",
    "    'alpha_1': alpha_1,\n",
    "    'gamma': gamma,\n",
    "    'sigma_u': sigma_u,\n",
    "    'rts': rts,\n",
    "    'orientation': orientation,\n",
    "    'nr_simulations': nr_simulations,\n",
    "    'seed': seed\n",
    "}"
   ]
  },
  {
   "cell_type": "code",
   "execution_count": null,
   "id": "2e72c518",
   "metadata": {},
   "outputs": [],
   "source": [
    "def run_simulation(params_dict):\n",
    "\n",
    "    N = params_dict['N']\n",
    "    M = params_dict['M']\n",
    "    n = params_dict['n']\n",
    "    alpha_1 = params_dict['alpha_1']\n",
    "    gamma = params_dict['gamma']\n",
    "    sigma_u = params_dict['sigma_u']\n",
    "    rts = params_dict['rts']\n",
    "    orientation = params_dict['orientation']\n",
    "    seed = params_dict['seed']\n",
    "\n",
    "    ## Data Generating Process\n",
    "    data_dict = dgp.generate_data_dict(\n",
    "        n=n,\n",
    "        N=N,\n",
    "        M=M,\n",
    "        alpha_1=alpha_1,\n",
    "        gamma=gamma,\n",
    "        sigma_u=sigma_u,\n",
    "        verbose=False\n",
    "    )\n",
    "    x = data_dict[\"x\"]\n",
    "    y = data_dict[\"y\"]\n",
    "    y_tilde = data_dict[\"y_tilde\"]\n",
    "    efficiency_score_by_design = (y/y_tilde).squeeze()\n",
    "\n",
    "    ## Dimensionality Reduction\n",
    "    embeddings = dr.create_embeddings(x=x, seed=seed)\n",
    "    embeddings_df_dict = embeddings['embeddings_df_dict']\n",
    "    dims_for_embedding_dict = embeddings['dims_for_embedding_dict']\n",
    "\n",
    "    ## Calculate DEA\n",
    "    efficiency_scores_dict = cdea.calculate_dea_for_embeddings(\n",
    "        embeddings_df_dict=embeddings_df_dict,\n",
    "        y=y,\n",
    "        rts=rts,\n",
    "        orientation=orientation\n",
    "    )\n",
    "\n",
    "    ## Evaluate Results\n",
    "    evaluation_df = er.create_evaluation_df(\n",
    "        efficiency_scores_dict=efficiency_scores_dict,\n",
    "        efficiency_score_by_design=efficiency_score_by_design,\n",
    "        dims_for_embedding_dict=dims_for_embedding_dict,\n",
    "    )\n",
    "\n",
    "    return evaluation_df"
   ]
  },
  {
   "cell_type": "code",
   "execution_count": null,
   "id": "197aad13",
   "metadata": {},
   "outputs": [],
   "source": [
    "evaluation_df_list = []\n",
    "errors_list = []\n",
    "\n",
    "for i in range(nr_simulations):\n",
    "    print(f'Iteration {i}')\n",
    "    try:\n",
    "        evaluation_df = run_simulation(params_dict)\n",
    "        evaluation_df['iteration'] = i\n",
    "        evaluation_df_list.append(evaluation_df)\n",
    "    except:\n",
    "        errors_list.append(i)\n",
    "        print(f'Error in iteration {i}')"
   ]
  },
  {
   "cell_type": "code",
   "execution_count": null,
   "id": "440d97e6",
   "metadata": {},
   "outputs": [],
   "source": [
    "evaluation_df_list"
   ]
  },
  {
   "cell_type": "code",
   "execution_count": null,
   "id": "d8d295de",
   "metadata": {},
   "outputs": [],
   "source": [
    "evaluation_df = pd.concat(evaluation_df_list)\n",
    "errors_list_df = pd.DataFrame(errors_list, columns=['iteration'])"
   ]
  },
  {
   "cell_type": "code",
   "execution_count": null,
   "id": "3aaba88e",
   "metadata": {},
   "outputs": [],
   "source": [
    "evaluation_df.to_csv(os.path.join(results_dir, f'evaluation_df_{run_serial}.csv'), index=True)\n",
    "with open(os.path.join(results_dir, f'params_dict_{run_serial}.json'), 'w') as fp:\n",
    "    json.dump(params_dict, fp)\n",
    "errors_list_df.to_csv(os.path.join(results_dir, f'errors_list_{run_serial}.csv'), index=False)"
   ]
  },
  {
   "cell_type": "code",
   "execution_count": null,
   "id": "8a42b27f",
   "metadata": {},
   "outputs": [],
   "source": [
    "summary_df = evaluation_df.groupby('dims').agg(\n",
    "    {'mae': ['mean', 'std'],\n",
    "     'spearmanr': ['mean', 'std'],\n",
    "        'pearsonr': ['mean', 'std'],\n",
    "        'kendalltau': ['mean', 'std']}).reset_index()"
   ]
  },
  {
   "cell_type": "code",
   "execution_count": null,
   "id": "c3ecb826",
   "metadata": {},
   "outputs": [],
   "source": [
    "summary_df.columns = ['dims', 'mae_mean', 'mae_std', 'spearmanr_mean', 'spearmanr_std',\n",
    "                        'pearsonr_mean', 'pearsonr_std', 'kendalltau_mean', 'kendalltau_std']"
   ]
  },
  {
   "cell_type": "code",
   "execution_count": null,
   "id": "33381484",
   "metadata": {},
   "outputs": [],
   "source": [
    "summary_df.to_csv(os.path.join(results_dir, f'summary_df_{run_serial}.csv'), index=False)"
   ]
  },
  {
   "cell_type": "code",
   "execution_count": null,
   "id": "08d47019",
   "metadata": {},
   "outputs": [],
   "source": []
  }
 ],
 "metadata": {
  "kernelspec": {
   "display_name": "Python 3 (ipykernel)",
   "language": "python",
   "name": "python3"
  },
  "language_info": {
   "codemirror_mode": {
    "name": "ipython",
    "version": 3
   },
   "file_extension": ".py",
   "mimetype": "text/x-python",
   "name": "python",
   "nbconvert_exporter": "python",
   "pygments_lexer": "ipython3",
   "version": "3.10.0"
  }
 },
 "nbformat": 4,
 "nbformat_minor": 5
}
