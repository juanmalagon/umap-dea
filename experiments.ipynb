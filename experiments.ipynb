{
 "cells": [
  {
   "cell_type": "code",
   "execution_count": null,
   "id": "18ef1d60",
   "metadata": {},
   "outputs": [],
   "source": [
    "# %pip install -r requirements.txt"
   ]
  },
  {
   "cell_type": "code",
   "execution_count": null,
   "id": "496664c2",
   "metadata": {
    "scrolled": true
   },
   "outputs": [],
   "source": [
    "import os\n",
    "import pandas as pd\n",
    "import numpy as np\n",
    "\n",
    "import data_generating_process as dgp\n",
    "import dimensionality_reduction as dr"
   ]
  },
  {
   "cell_type": "code",
   "execution_count": null,
   "id": "6d2944e4",
   "metadata": {},
   "outputs": [],
   "source": [
    "parent_dir = '/Users/juanmalagon/repos/high-dim-dea'\n",
    "mc_simulation_dir = os.path.join(parent_dir, 'legacy/mc_simulation')\n",
    "dea_results_dir = os.path.join(parent_dir, 'legacy/dea_results')"
   ]
  },
  {
   "cell_type": "markdown",
   "id": "9f36f3bb",
   "metadata": {},
   "source": [
    "## Data Generating Process"
   ]
  },
  {
   "cell_type": "code",
   "execution_count": null,
   "id": "81755bd5",
   "metadata": {},
   "outputs": [],
   "source": [
    "seed = 42\n",
    "np.random.seed(seed)"
   ]
  },
  {
   "cell_type": "code",
   "execution_count": null,
   "id": "d7d0a8e5",
   "metadata": {
    "scrolled": true
   },
   "outputs": [],
   "source": [
    "N = 100\n",
    "M = 1\n",
    "n = 50\n",
    "alpha_1 = 0.25\n",
    "gamma = 1\n",
    "sigma_u = 0.5\n",
    "epsilon = 0.5"
   ]
  },
  {
   "cell_type": "code",
   "execution_count": null,
   "id": "4225b503",
   "metadata": {
    "scrolled": true
   },
   "outputs": [],
   "source": [
    "print('INITIAL SETUP \\n')\n",
    "print(f'Number of inputs: {N}')\n",
    "print(f'Number of outputs: {M}')\n",
    "print(f'Number of DMUs: {n}')\n",
    "print(f'Parameter alpha_1: {alpha_1}')\n",
    "print(f'Parameter gamma: {gamma}')\n",
    "print(f'Parameter sigma_u: {sigma_u}')\n",
    "print(f'Parameter epsilon: {epsilon}')"
   ]
  },
  {
   "cell_type": "code",
   "execution_count": null,
   "id": "6c672a99",
   "metadata": {},
   "outputs": [],
   "source": [
    "data_dict = dgp.generate_data_dict(\n",
    "    n=n,\n",
    "    N=N,\n",
    "    M=M,\n",
    "    alpha_1=alpha_1,\n",
    "    gamma=gamma,\n",
    "    sigma_u=sigma_u,\n",
    "    verbose=False\n",
    ")"
   ]
  },
  {
   "cell_type": "code",
   "execution_count": null,
   "id": "7b5ecc2b",
   "metadata": {},
   "outputs": [],
   "source": [
    "x = data_dict[\"x\"]\n",
    "y = data_dict[\"y\"]\n",
    "y_tilde = data_dict[\"y_tilde\"]\n",
    "eff_ratio_bound = y/y_tilde"
   ]
  },
  {
   "cell_type": "markdown",
   "id": "e7e85890",
   "metadata": {},
   "source": [
    "## Dimensionality reduction"
   ]
  },
  {
   "cell_type": "code",
   "execution_count": null,
   "id": "ae267e4e",
   "metadata": {},
   "outputs": [],
   "source": [
    "embeddings = dr.create_embeddings(x=x, seed=seed)"
   ]
  },
  {
   "cell_type": "code",
   "execution_count": null,
   "id": "4bd57273",
   "metadata": {},
   "outputs": [],
   "source": [
    "embeddings_df_dict = embeddings['embeddings_df_dict']\n",
    "dims_for_embedding_dict = embeddings['dims_for_embedding_dict']"
   ]
  },
  {
   "cell_type": "code",
   "execution_count": null,
   "id": "8e511c6f",
   "metadata": {
    "scrolled": true
   },
   "outputs": [],
   "source": [
    "import umap\n",
    "import warnings"
   ]
  },
  {
   "cell_type": "code",
   "execution_count": null,
   "id": "1afefb11",
   "metadata": {},
   "outputs": [],
   "source": [
    "warnings.filterwarnings('ignore')"
   ]
  },
  {
   "cell_type": "code",
   "execution_count": null,
   "id": "c25d6dfd",
   "metadata": {},
   "outputs": [],
   "source": [
    "def get_dims_for_embedding(x):\n",
    "    dims_for_embedding_dict = {\n",
    "        'half': int(x.shape[1]/2),\n",
    "        'sqrt': int(np.sqrt(x.shape[1])),\n",
    "        'log': int(np.log(x.shape[1])),\n",
    "        'ten_percent': int(x.shape[1]*0.1),\n",
    "    }\n",
    "    # Correcting for spectral initialization in case\n",
    "    # the number of dimensions is not less than x.shape[0]\n",
    "    for k, v in dims_for_embedding_dict.items():\n",
    "        if v >= x.shape[0]:\n",
    "            dims_for_embedding_dict[k] = x.shape[0] - 2\n",
    "    return dims_for_embedding_dict"
   ]
  },
  {
   "cell_type": "code",
   "execution_count": null,
   "id": "2738adae",
   "metadata": {},
   "outputs": [],
   "source": [
    "def reduce_dims(\n",
    "        x,\n",
    "        n_components=2,\n",
    "        n_neighbors=15,\n",
    "        min_dist=0.1,\n",
    "        metric='euclidean'):\n",
    "    fit = umap.UMAP(\n",
    "        n_neighbors=n_neighbors,\n",
    "        min_dist=min_dist,\n",
    "        n_components=n_components,\n",
    "        metric=metric,\n",
    "        random_state=seed\n",
    "    )\n",
    "    u = fit.fit_transform(x)\n",
    "    # Linear translation to make all values non-negative\n",
    "    if (u < 0).any(): # type: ignore\n",
    "        u = u - u.min() # type: ignore\n",
    "    print(f'Shape of the embedding: {u.shape}') # type: ignore\n",
    "    return u"
   ]
  },
  {
   "cell_type": "code",
   "execution_count": null,
   "id": "771d0e4f",
   "metadata": {},
   "outputs": [],
   "source": [
    "def create_embeddings(x):\n",
    "    print(f'Original shape: {x.shape}')\n",
    "    dims_for_embedding_dict = get_dims_for_embedding(x)\n",
    "    embeddings_dict = {}\n",
    "    for k, v in dims_for_embedding_dict.items():\n",
    "        print(f'Creating embedding with {v} dimensions ({k})')\n",
    "        embeddings_dict[k] = reduce_dims(x, n_components=v)\n",
    "    embeddings_dict['original'] = x\n",
    "    return embeddings_dict"
   ]
  },
  {
   "cell_type": "code",
   "execution_count": null,
   "id": "1baa5ecd",
   "metadata": {},
   "outputs": [],
   "source": [
    "embeddings_dict = create_embeddings(x)"
   ]
  },
  {
   "cell_type": "markdown",
   "id": "7a09f811",
   "metadata": {},
   "source": [
    "## Calculate DEA CRS IO (dealib)"
   ]
  },
  {
   "cell_type": "code",
   "execution_count": null,
   "id": "f24a5c79",
   "metadata": {},
   "outputs": [],
   "source": [
    "# %pip install dealib"
   ]
  },
  {
   "cell_type": "code",
   "execution_count": null,
   "id": "3c1f57c8",
   "metadata": {},
   "outputs": [],
   "source": [
    "from dealib.dea import RTS, Orientation, dea"
   ]
  },
  {
   "cell_type": "code",
   "execution_count": null,
   "id": "e87f0b2a",
   "metadata": {},
   "outputs": [],
   "source": [
    "efficiency_scores_dict = {}"
   ]
  },
  {
   "cell_type": "code",
   "execution_count": null,
   "id": "bcd0dedf",
   "metadata": {},
   "outputs": [],
   "source": [
    "for k, v in embeddings_df_dict.items():\n",
    "    print(f'Calculating efficiency scores for {k} embedding')\n",
    "    efficiency_scores_dict[k] = dea(\n",
    "        v,\n",
    "        y,\n",
    "        rts=RTS.crs,\n",
    "        orientation=Orientation.input,\n",
    "    ).eff"
   ]
  },
  {
   "cell_type": "code",
   "execution_count": null,
   "id": "6c43a0d5",
   "metadata": {},
   "outputs": [],
   "source": [
    "comparative_df = pd.DataFrame(efficiency_scores_dict)"
   ]
  },
  {
   "cell_type": "code",
   "execution_count": null,
   "id": "0945d4fd",
   "metadata": {},
   "outputs": [],
   "source": [
    "comparative_df['y'] = data_dict['y'].squeeze()\n",
    "comparative_df['y_tilde'] = data_dict['y_tilde'].squeeze()\n",
    "comparative_df['eff_ratio_bound'] = eff_ratio_bound.squeeze()"
   ]
  },
  {
   "cell_type": "code",
   "execution_count": null,
   "id": "5290b3e7",
   "metadata": {},
   "outputs": [],
   "source": [
    "comparative_df['eff_ratio_bound_rank'] = comparative_df['eff_ratio_bound'].rank(ascending=False)\n",
    "comparative_df['half_rank'] = comparative_df['half'].rank(ascending=False)"
   ]
  },
  {
   "cell_type": "code",
   "execution_count": null,
   "id": "92d88e58",
   "metadata": {},
   "outputs": [],
   "source": [
    "comparative_df"
   ]
  },
  {
   "cell_type": "markdown",
   "id": "fb2ab87b",
   "metadata": {},
   "source": [
    "## Evaluate the results"
   ]
  },
  {
   "cell_type": "code",
   "execution_count": null,
   "id": "7a7e68d2",
   "metadata": {},
   "outputs": [],
   "source": [
    "from sklearn.metrics import mean_absolute_error, top_k_accuracy_score"
   ]
  },
  {
   "cell_type": "code",
   "execution_count": null,
   "id": "24e91041",
   "metadata": {},
   "outputs": [],
   "source": [
    "mae_dict = {}"
   ]
  },
  {
   "cell_type": "code",
   "execution_count": null,
   "id": "e908d4e1",
   "metadata": {},
   "outputs": [],
   "source": [
    "for k, v in efficiency_scores_dict.items():\n",
    "    mae_dict[k] = mean_absolute_error(\n",
    "        y_true=eff_ratio_bound,\n",
    "        y_pred=v\n",
    "    )"
   ]
  },
  {
   "cell_type": "code",
   "execution_count": null,
   "id": "9c5d4eb4",
   "metadata": {},
   "outputs": [],
   "source": [
    "mae_dict"
   ]
  },
  {
   "cell_type": "code",
   "execution_count": null,
   "id": "325fe579",
   "metadata": {},
   "outputs": [],
   "source": [
    "mean_absolute_error(\n",
    "    y_pred=comparative_df['original'],\n",
    "    y_true=comparative_df['eff_ratio_bound']\n",
    ")"
   ]
  },
  {
   "cell_type": "code",
   "execution_count": null,
   "id": "f5d9b24c",
   "metadata": {},
   "outputs": [],
   "source": [
    "top_k_accuracy_score(\n",
    "    y_true=comparative_df['eff_ratio_bound_rank'],\n",
    "    y_score=comparative_df['half'],\n",
    "    labels=comparative_df['eff_ratio_bound_rank'].to_list(),\n",
    "    k=5\n",
    ")"
   ]
  },
  {
   "cell_type": "code",
   "execution_count": null,
   "id": "89294a21",
   "metadata": {},
   "outputs": [],
   "source": []
  },
  {
   "cell_type": "code",
   "execution_count": null,
   "id": "a7faa950",
   "metadata": {},
   "outputs": [],
   "source": []
  },
  {
   "cell_type": "markdown",
   "id": "8e8ce886",
   "metadata": {},
   "source": [
    "## Export results"
   ]
  },
  {
   "cell_type": "code",
   "execution_count": null,
   "id": "f617777e",
   "metadata": {},
   "outputs": [],
   "source": [
    "# pd.DataFrame(data_dict['x']).to_csv(\"legacy/mc_simulation/inputs.csv\", index=True)\n",
    "# pd.DataFrame(data_dict['y']).to_csv(\"legacy/mc_simulation/outputs.csv\", index=False)"
   ]
  },
  {
   "cell_type": "code",
   "execution_count": null,
   "id": "57e0692d",
   "metadata": {
    "scrolled": true
   },
   "outputs": [],
   "source": [
    "pd.DataFrame(x).to_csv(\"mc_simulation/inputs.csv\", index=True)"
   ]
  },
  {
   "cell_type": "code",
   "execution_count": null,
   "id": "b4b42606",
   "metadata": {
    "scrolled": true
   },
   "outputs": [],
   "source": [
    "pd.DataFrame(y).to_csv(\"mc_simulation/outputs.csv\", index=False)"
   ]
  },
  {
   "cell_type": "code",
   "execution_count": null,
   "id": "d230640f",
   "metadata": {},
   "outputs": [],
   "source": [
    "fit = umap.UMAP(\n",
    "    n_components=40,\n",
    ")\n",
    "u = fit.fit_transform(x)"
   ]
  },
  {
   "cell_type": "code",
   "execution_count": null,
   "id": "76a2f588",
   "metadata": {},
   "outputs": [],
   "source": [
    "pd.DataFrame(u).to_csv(\"mc_simulation/inputs_umap_40_dims.csv\", index=True)"
   ]
  },
  {
   "cell_type": "code",
   "execution_count": null,
   "metadata": {},
   "outputs": [],
   "source": []
  }
 ],
 "metadata": {
  "kernelspec": {
   "display_name": "Python 3 (ipykernel)",
   "language": "python",
   "name": "python3"
  },
  "language_info": {
   "codemirror_mode": {
    "name": "ipython",
    "version": 3
   },
   "file_extension": ".py",
   "mimetype": "text/x-python",
   "name": "python",
   "nbconvert_exporter": "python",
   "pygments_lexer": "ipython3",
   "version": "3.10.0"
  }
 },
 "nbformat": 4,
 "nbformat_minor": 5
}
