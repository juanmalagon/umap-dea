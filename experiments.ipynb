{
 "cells": [
  {
   "cell_type": "code",
   "execution_count": null,
   "id": "18ef1d60",
   "metadata": {},
   "outputs": [],
   "source": [
    "# %pip install -r requirements.txt"
   ]
  },
  {
   "cell_type": "code",
   "execution_count": null,
   "id": "496664c2",
   "metadata": {
    "scrolled": true
   },
   "outputs": [],
   "source": [
    "import os\n",
    "import pandas as pd\n",
    "import numpy as np\n",
    "\n",
    "import data_generating_process as dgp\n",
    "import dimensionality_reduction as dr\n",
    "import calculate_dea as cdea\n",
    "import evaluate_results as er"
   ]
  },
  {
   "cell_type": "code",
   "execution_count": null,
   "id": "6d2944e4",
   "metadata": {},
   "outputs": [],
   "source": [
    "parent_dir = '/Users/juanmalagon/repos/high-dim-dea'\n",
    "mc_simulation_dir = os.path.join(parent_dir, 'legacy/mc_simulation')\n",
    "dea_results_dir = os.path.join(parent_dir, 'legacy/dea_results')"
   ]
  },
  {
   "cell_type": "markdown",
   "id": "3080d775",
   "metadata": {},
   "source": [
    "## Set up initial variables"
   ]
  },
  {
   "cell_type": "code",
   "execution_count": null,
   "id": "81755bd5",
   "metadata": {},
   "outputs": [],
   "source": [
    "seed = 42\n",
    "np.random.seed(seed)"
   ]
  },
  {
   "cell_type": "code",
   "execution_count": null,
   "id": "d7d0a8e5",
   "metadata": {
    "scrolled": true
   },
   "outputs": [],
   "source": [
    "N = 100\n",
    "M = 1\n",
    "n = 50\n",
    "alpha_1 = 0.25\n",
    "gamma = 1\n",
    "sigma_u = 0.5\n",
    "rts='crs'\n",
    "orientation='input'"
   ]
  },
  {
   "cell_type": "code",
   "execution_count": null,
   "id": "4225b503",
   "metadata": {
    "scrolled": true
   },
   "outputs": [],
   "source": [
    "print('INITIAL SETUP \\n')\n",
    "print(f'Number of inputs: {N}')\n",
    "print(f'Number of outputs: {M}')\n",
    "print(f'Number of DMUs: {n}')\n",
    "print(f'Parameter alpha_1: {alpha_1}')\n",
    "print(f'Parameter gamma: {gamma}')\n",
    "print(f'Parameter sigma_u: {sigma_u}')\n",
    "print(f'Return to scale: {rts}')\n",
    "print(f'Orientation: {orientation}')"
   ]
  },
  {
   "cell_type": "code",
   "execution_count": null,
   "id": "2c2506ba",
   "metadata": {},
   "outputs": [],
   "source": [
    "params_dict = {\n",
    "    'N': N,\n",
    "    'M': M,\n",
    "    'n': n,\n",
    "    'alpha_1': alpha_1,\n",
    "    'gamma': gamma,\n",
    "    'sigma_u': sigma_u,\n",
    "    'rts': rts,\n",
    "    'orientation': orientation\n",
    "}"
   ]
  },
  {
   "cell_type": "markdown",
   "id": "9f36f3bb",
   "metadata": {},
   "source": [
    "## Data Generating Process"
   ]
  },
  {
   "cell_type": "code",
   "execution_count": null,
   "id": "6c672a99",
   "metadata": {},
   "outputs": [],
   "source": [
    "data_dict = dgp.generate_data_dict(\n",
    "    n=n,\n",
    "    N=N,\n",
    "    M=M,\n",
    "    alpha_1=alpha_1,\n",
    "    gamma=gamma,\n",
    "    sigma_u=sigma_u,\n",
    "    verbose=False\n",
    ")"
   ]
  },
  {
   "cell_type": "code",
   "execution_count": null,
   "id": "7b5ecc2b",
   "metadata": {},
   "outputs": [],
   "source": [
    "x = data_dict[\"x\"]\n",
    "y = data_dict[\"y\"]\n",
    "y_tilde = data_dict[\"y_tilde\"]\n",
    "efficiency_score_by_design = (y/y_tilde).squeeze()"
   ]
  },
  {
   "cell_type": "markdown",
   "id": "e7e85890",
   "metadata": {},
   "source": [
    "## Dimensionality reduction"
   ]
  },
  {
   "cell_type": "code",
   "execution_count": null,
   "id": "ae267e4e",
   "metadata": {},
   "outputs": [],
   "source": [
    "embeddings = dr.create_embeddings(x=x, seed=seed)"
   ]
  },
  {
   "cell_type": "code",
   "execution_count": null,
   "id": "4bd57273",
   "metadata": {},
   "outputs": [],
   "source": [
    "embeddings_df_dict = embeddings['embeddings_df_dict']\n",
    "dims_for_embedding_dict = embeddings['dims_for_embedding_dict']"
   ]
  },
  {
   "cell_type": "markdown",
   "id": "7a09f811",
   "metadata": {},
   "source": [
    "## Calculate DEA"
   ]
  },
  {
   "cell_type": "code",
   "execution_count": null,
   "id": "d8f1baa8",
   "metadata": {},
   "outputs": [],
   "source": [
    "efficiency_scores_dict = cdea.calculate_dea_for_embeddings(\n",
    "    embeddings_df_dict=embeddings_df_dict,\n",
    "    y=y,\n",
    "    rts=rts,\n",
    "    orientation=orientation\n",
    ")"
   ]
  },
  {
   "cell_type": "markdown",
   "id": "fb2ab87b",
   "metadata": {},
   "source": [
    "## Evaluate the results"
   ]
  },
  {
   "cell_type": "code",
   "execution_count": null,
   "id": "74cfa78c",
   "metadata": {},
   "outputs": [],
   "source": [
    "evaluation_df = er.create_evaluation_df(\n",
    "    efficiency_scores_dict=efficiency_scores_dict,\n",
    "    efficiency_score_by_design=efficiency_score_by_design,\n",
    "    dims_for_embedding_dict=dims_for_embedding_dict,\n",
    ")"
   ]
  },
  {
   "cell_type": "code",
   "execution_count": null,
   "id": "32e3ffd6",
   "metadata": {},
   "outputs": [],
   "source": [
    "evaluation_df"
   ]
  },
  {
   "cell_type": "code",
   "execution_count": null,
   "metadata": {},
   "outputs": [],
   "source": []
  }
 ],
 "metadata": {
  "kernelspec": {
   "display_name": "Python 3 (ipykernel)",
   "language": "python",
   "name": "python3"
  },
  "language_info": {
   "codemirror_mode": {
    "name": "ipython",
    "version": 3
   },
   "file_extension": ".py",
   "mimetype": "text/x-python",
   "name": "python",
   "nbconvert_exporter": "python",
   "pygments_lexer": "ipython3",
   "version": "3.10.0"
  }
 },
 "nbformat": 4,
 "nbformat_minor": 5
}
