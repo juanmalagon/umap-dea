{
 "cells": [
  {
   "cell_type": "code",
   "execution_count": null,
   "id": "18ef1d60",
   "metadata": {},
   "outputs": [],
   "source": [
    "# %pip install -r requirements.txt"
   ]
  },
  {
   "cell_type": "code",
   "execution_count": null,
   "id": "496664c2",
   "metadata": {
    "scrolled": true
   },
   "outputs": [],
   "source": [
    "import os\n",
    "import pandas as pd\n",
    "import numpy as np\n",
    "\n",
    "import utilities as ut"
   ]
  },
  {
   "cell_type": "code",
   "execution_count": null,
   "id": "6d2944e4",
   "metadata": {},
   "outputs": [],
   "source": [
    "parent_dir = '/Users/juanmalagon/repos/high-dim-dea'\n",
    "mc_simulation_dir = os.path.join(parent_dir, 'legacy/mc_simulation')\n",
    "dea_results_dir = os.path.join(parent_dir, 'legacy/dea_results')"
   ]
  },
  {
   "cell_type": "markdown",
   "id": "9f36f3bb",
   "metadata": {},
   "source": [
    "# Data Generating Process"
   ]
  },
  {
   "cell_type": "code",
   "execution_count": null,
   "id": "81755bd5",
   "metadata": {},
   "outputs": [],
   "source": [
    "seed = 42\n",
    "np.random.seed(seed)"
   ]
  },
  {
   "cell_type": "code",
   "execution_count": null,
   "id": "d7d0a8e5",
   "metadata": {
    "scrolled": true
   },
   "outputs": [],
   "source": [
    "N = 100\n",
    "M = 1\n",
    "n = 50\n",
    "alpha_1 = 0.25\n",
    "gamma = 1\n",
    "sigma_u = 0.5\n",
    "epsilon = 0.5"
   ]
  },
  {
   "cell_type": "code",
   "execution_count": null,
   "id": "4225b503",
   "metadata": {
    "scrolled": true
   },
   "outputs": [],
   "source": [
    "print('INITIAL SETUP \\n')\n",
    "print(f'Number of inputs: {N}')\n",
    "print(f'Number of outputs: {M}')\n",
    "print(f'Number of DMUs: {n}')\n",
    "print(f'Parameter alpha_1: {alpha_1}')\n",
    "print(f'Parameter gamma: {gamma}')\n",
    "print(f'Parameter sigma_u: {sigma_u}')\n",
    "print(f'Parameter epsilon: {epsilon}')"
   ]
  },
  {
   "cell_type": "code",
   "execution_count": null,
   "id": "6c672a99",
   "metadata": {},
   "outputs": [],
   "source": [
    "data_dict = ut.generate_data_dict(\n",
    "    n=n,\n",
    "    N=N,\n",
    "    M=M,\n",
    "    alpha_1=alpha_1,\n",
    "    gamma=gamma,\n",
    "    sigma_u=sigma_u,\n",
    "    verbose=False\n",
    ")"
   ]
  },
  {
   "cell_type": "code",
   "execution_count": null,
   "id": "f617777e",
   "metadata": {},
   "outputs": [],
   "source": [
    "# pd.DataFrame(data_dict['x']).to_csv(\"legacy/mc_simulation/inputs.csv\", index=True)\n",
    "# pd.DataFrame(data_dict['y']).to_csv(\"legacy/mc_simulation/outputs.csv\", index=False)"
   ]
  },
  {
   "cell_type": "code",
   "execution_count": null,
   "id": "7b5ecc2b",
   "metadata": {},
   "outputs": [],
   "source": [
    "x = data_dict[\"x\"]\n",
    "y = data_dict[\"y\"]\n",
    "y_tilde = data_dict[\"y_tilde\"]"
   ]
  },
  {
   "cell_type": "code",
   "execution_count": null,
   "id": "aaa84e76",
   "metadata": {},
   "outputs": [],
   "source": [
    "# diff_y_tilde_y = pd.DataFrame()"
   ]
  },
  {
   "cell_type": "code",
   "execution_count": null,
   "id": "e43dc58f",
   "metadata": {},
   "outputs": [],
   "source": [
    "# diff_y_tilde_y['y'] = data_dict['y'].squeeze()\n",
    "# diff_y_tilde_y['y_tilde'] = data_dict['y_tilde'].squeeze()\n"
   ]
  },
  {
   "cell_type": "code",
   "execution_count": null,
   "id": "b0d8cb14",
   "metadata": {},
   "outputs": [],
   "source": [
    "# diff_y_tilde_y['diff'] = diff_y_tilde_y['y_tilde'] - diff_y_tilde_y['y']"
   ]
  },
  {
   "cell_type": "code",
   "execution_count": null,
   "id": "1bafcd76",
   "metadata": {},
   "outputs": [],
   "source": [
    "# data_dict['x'].shape"
   ]
  },
  {
   "cell_type": "markdown",
   "id": "7a09f811",
   "metadata": {},
   "source": [
    "## Calculate DEA CRS IO (dealib)"
   ]
  },
  {
   "cell_type": "code",
   "execution_count": null,
   "id": "f24a5c79",
   "metadata": {},
   "outputs": [],
   "source": [
    "# %pip install dealib"
   ]
  },
  {
   "cell_type": "code",
   "execution_count": null,
   "id": "74f7c12c",
   "metadata": {},
   "outputs": [],
   "source": [
    "x = u"
   ]
  },
  {
   "cell_type": "code",
   "execution_count": null,
   "id": "3c1f57c8",
   "metadata": {},
   "outputs": [],
   "source": [
    "from dealib.dea import RTS, Orientation, dea"
   ]
  },
  {
   "cell_type": "code",
   "execution_count": null,
   "id": "09d13119",
   "metadata": {},
   "outputs": [],
   "source": [
    "result = dea(x, y, rts=RTS.crs, orientation=Orientation.input)"
   ]
  },
  {
   "cell_type": "code",
   "execution_count": null,
   "id": "fc68ccc8",
   "metadata": {},
   "outputs": [],
   "source": [
    "print(result.eff)"
   ]
  },
  {
   "cell_type": "code",
   "execution_count": null,
   "id": "233cfd39",
   "metadata": {},
   "outputs": [],
   "source": [
    "print(result.slack)"
   ]
  },
  {
   "cell_type": "code",
   "execution_count": null,
   "id": "9af55e53",
   "metadata": {},
   "outputs": [],
   "source": [
    "result.lambdas[7]"
   ]
  },
  {
   "cell_type": "markdown",
   "id": "e7e85890",
   "metadata": {},
   "source": [
    "## Dimensionality reduction"
   ]
  },
  {
   "cell_type": "code",
   "execution_count": null,
   "id": "8e511c6f",
   "metadata": {
    "scrolled": true
   },
   "outputs": [],
   "source": [
    "import umap"
   ]
  },
  {
   "cell_type": "code",
   "execution_count": null,
   "id": "c25d6dfd",
   "metadata": {},
   "outputs": [],
   "source": [
    "def get_dims_for_embedding(x):\n",
    "    return {\n",
    "        'half': int(x.shape[1]/2),\n",
    "        'sqrt': int(np.sqrt(x.shape[1])),\n",
    "        'log': int(np.log(x.shape[1])),\n",
    "        'ten_percent': int(x.shape[1]*0.1),\n",
    "    }"
   ]
  },
  {
   "cell_type": "code",
   "execution_count": null,
   "id": "dcf926d1",
   "metadata": {},
   "outputs": [],
   "source": [
    "get_dims_for_embedding(x)"
   ]
  },
  {
   "cell_type": "code",
   "execution_count": null,
   "id": "2738adae",
   "metadata": {},
   "outputs": [],
   "source": [
    "def reduce_dims(\n",
    "        x,\n",
    "        n_components=2,\n",
    "        n_neighbors=15,\n",
    "        min_dist=0.1,\n",
    "        metric='euclidean'):\n",
    "    fit = umap.UMAP(\n",
    "        n_neighbors=n_neighbors,\n",
    "        min_dist=min_dist,\n",
    "        n_components=n_components,\n",
    "        metric=metric\n",
    "    )\n",
    "    u = fit.fit_transform(x)\n",
    "    return u"
   ]
  },
  {
   "cell_type": "code",
   "execution_count": null,
   "id": "fc11ae6e",
   "metadata": {},
   "outputs": [],
   "source": [
    "fit = umap.UMAP(\n",
    "    n_neighbors=n_neighbors,\n",
    "    min_dist=min_dist,\n",
    "    n_components=n_components,\n",
    "    metric=metric\n",
    ")\n",
    "\n",
    "%time u = fit.fit_transform(x);"
   ]
  },
  {
   "cell_type": "code",
   "execution_count": null,
   "id": "3b9bb3b2",
   "metadata": {},
   "outputs": [],
   "source": [
    "u.shape"
   ]
  },
  {
   "cell_type": "code",
   "execution_count": null,
   "id": "dc788c04",
   "metadata": {},
   "outputs": [],
   "source": []
  },
  {
   "cell_type": "code",
   "execution_count": null,
   "id": "d23cf282",
   "metadata": {
    "scrolled": false
   },
   "outputs": [],
   "source": [
    "fit = umap.UMAP(\n",
    "    n_components=2,\n",
    ")\n",
    "u = fit.fit_transform(x)"
   ]
  },
  {
   "cell_type": "code",
   "execution_count": null,
   "id": "d5b90ccd",
   "metadata": {},
   "outputs": [],
   "source": [
    "pd.DataFrame(u).to_csv(os.path.join(mc_simulation_dir, 'inputs_umap_02_dims.csv'), index=True)"
   ]
  },
  {
   "cell_type": "code",
   "execution_count": null,
   "id": "44332467",
   "metadata": {},
   "outputs": [],
   "source": [
    "fit = umap.UMAP(\n",
    "    n_components=5,\n",
    ")\n",
    "u = fit.fit_transform(x)"
   ]
  },
  {
   "cell_type": "code",
   "execution_count": null,
   "id": "59e091bd",
   "metadata": {},
   "outputs": [],
   "source": [
    "type(u)"
   ]
  },
  {
   "cell_type": "code",
   "execution_count": null,
   "id": "aca4d8af",
   "metadata": {},
   "outputs": [],
   "source": [
    "pd.DataFrame(u).to_csv(os.path.join(mc_simulation_dir, 'inputs_umap_05_dims.csv'), index=True)"
   ]
  },
  {
   "cell_type": "code",
   "execution_count": null,
   "id": "438fa5db",
   "metadata": {},
   "outputs": [],
   "source": [
    "pd.DataFrame(u).to_csv(\"mc_simulation/inputs_umap_05_dims.csv\", index=True)"
   ]
  },
  {
   "cell_type": "code",
   "execution_count": null,
   "id": "aa6d8edf",
   "metadata": {},
   "outputs": [],
   "source": [
    "fit = umap.UMAP(\n",
    "    n_components=20,\n",
    ")\n",
    "u = fit.fit_transform(x)"
   ]
  },
  {
   "cell_type": "code",
   "execution_count": null,
   "metadata": {},
   "outputs": [],
   "source": [
    "pd.DataFrame(u).to_csv(\"mc_simulation/inputs_umap_20_dims.csv\", index=True)"
   ]
  },
  {
   "cell_type": "code",
   "execution_count": null,
   "id": "7b573cd2",
   "metadata": {},
   "outputs": [],
   "source": [
    "fit = umap.UMAP(\n",
    "    n_components=30,\n",
    ")\n",
    "u = fit.fit_transform(x)"
   ]
  },
  {
   "cell_type": "code",
   "execution_count": null,
   "metadata": {},
   "outputs": [],
   "source": [
    "pd.DataFrame(u).to_csv(\"mc_simulation/inputs_umap_30_dims.csv\", index=True)"
   ]
  },
  {
   "cell_type": "code",
   "execution_count": null,
   "id": "d230640f",
   "metadata": {},
   "outputs": [],
   "source": [
    "fit = umap.UMAP(\n",
    "    n_components=40,\n",
    ")\n",
    "u = fit.fit_transform(x)"
   ]
  },
  {
   "cell_type": "code",
   "execution_count": null,
   "metadata": {},
   "outputs": [],
   "source": [
    "pd.DataFrame(u).to_csv(\"mc_simulation/inputs_umap_40_dims.csv\", index=True)"
   ]
  },
  {
   "cell_type": "markdown",
   "id": "8e8ce886",
   "metadata": {},
   "source": [
    "## Export results"
   ]
  },
  {
   "cell_type": "code",
   "execution_count": null,
   "id": "57e0692d",
   "metadata": {
    "scrolled": true
   },
   "outputs": [],
   "source": [
    "pd.DataFrame(x).to_csv(\"mc_simulation/inputs.csv\", index=True)"
   ]
  },
  {
   "cell_type": "code",
   "execution_count": null,
   "id": "b4b42606",
   "metadata": {
    "scrolled": true
   },
   "outputs": [],
   "source": [
    "pd.DataFrame(y).to_csv(\"mc_simulation/outputs.csv\", index=False)"
   ]
  },
  {
   "cell_type": "code",
   "execution_count": null,
   "metadata": {},
   "outputs": [],
   "source": []
  }
 ],
 "metadata": {
  "kernelspec": {
   "display_name": "Python 3 (ipykernel)",
   "language": "python",
   "name": "python3"
  },
  "language_info": {
   "codemirror_mode": {
    "name": "ipython",
    "version": 3
   },
   "file_extension": ".py",
   "mimetype": "text/x-python",
   "name": "python",
   "nbconvert_exporter": "python",
   "pygments_lexer": "ipython3",
   "version": "3.10.0"
  }
 },
 "nbformat": 4,
 "nbformat_minor": 5
}
