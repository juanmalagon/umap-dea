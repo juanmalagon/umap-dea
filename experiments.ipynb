{
 "cells": [
  {
   "cell_type": "code",
   "execution_count": null,
   "id": "18ef1d60",
   "metadata": {},
   "outputs": [],
   "source": [
    "# %pip install -r requirements.txt"
   ]
  },
  {
   "cell_type": "code",
   "execution_count": null,
   "id": "496664c2",
   "metadata": {
    "scrolled": true
   },
   "outputs": [],
   "source": [
    "import pandas as pd\n",
    "import numpy as np\n",
    "\n",
    "import utilities as ut"
   ]
  },
  {
   "cell_type": "markdown",
   "id": "9f36f3bb",
   "metadata": {},
   "source": [
    "# Data Generating Process"
   ]
  },
  {
   "cell_type": "code",
   "execution_count": null,
   "id": "81755bd5",
   "metadata": {},
   "outputs": [],
   "source": [
    "seed = 42\n",
    "np.random.seed(seed)"
   ]
  },
  {
   "cell_type": "code",
   "execution_count": null,
   "id": "d7d0a8e5",
   "metadata": {
    "scrolled": true
   },
   "outputs": [],
   "source": [
    "N = 100\n",
    "M = 1\n",
    "n = 50\n",
    "alpha_1 = 0.25\n",
    "gamma = 1\n",
    "sigma_u = 0.5\n",
    "epsilon = 0.5"
   ]
  },
  {
   "cell_type": "code",
   "execution_count": null,
   "id": "4225b503",
   "metadata": {
    "scrolled": true
   },
   "outputs": [],
   "source": [
    "print('INITIAL SETUP \\n')\n",
    "print(f'Number of inputs: {N}')\n",
    "print(f'Number of outputs: {M}')\n",
    "print(f'Number of DMUs: {n}')\n",
    "print(f'Parameter alpha_1: {alpha_1}')\n",
    "print(f'Parameter gamma: {gamma}')\n",
    "print(f'Parameter sigma_u: {sigma_u}')\n",
    "print(f'Parameter epsilon: {epsilon}')"
   ]
  },
  {
   "cell_type": "code",
   "execution_count": null,
   "id": "6c672a99",
   "metadata": {},
   "outputs": [],
   "source": [
    "x, y = ut.generate_data(\n",
    "    n=n,\n",
    "    N=N,\n",
    "    M=M,\n",
    "    alpha_1=alpha_1,\n",
    "    gamma=gamma,\n",
    "    sigma_u=sigma_u,\n",
    "    verbose=True\n",
    ")"
   ]
  },
  {
   "cell_type": "markdown",
   "id": "8e8ce886",
   "metadata": {},
   "source": [
    "## Export results"
   ]
  },
  {
   "cell_type": "code",
   "execution_count": null,
   "id": "57e0692d",
   "metadata": {
    "scrolled": true
   },
   "outputs": [],
   "source": [
    "pd.DataFrame(x).to_csv(\"mc_simulation/inputs.csv\", index=True)"
   ]
  },
  {
   "cell_type": "code",
   "execution_count": null,
   "id": "b4b42606",
   "metadata": {
    "scrolled": true
   },
   "outputs": [],
   "source": [
    "pd.DataFrame(y).to_csv(\"mc_simulation/outputs.csv\", index=False)"
   ]
  },
  {
   "cell_type": "markdown",
   "id": "e7e85890",
   "metadata": {},
   "source": [
    "## Dimensionality reduction"
   ]
  },
  {
   "cell_type": "code",
   "execution_count": null,
   "id": "8e511c6f",
   "metadata": {
    "scrolled": true
   },
   "outputs": [],
   "source": [
    "import numpy as np\n",
    "import matplotlib.pyplot as plt\n",
    "from mpl_toolkits.mplot3d import Axes3D\n",
    "import seaborn as sns\n",
    "import umap\n",
    "%matplotlib inline"
   ]
  },
  {
   "cell_type": "code",
   "execution_count": null,
   "id": "825d971e",
   "metadata": {
    "scrolled": true
   },
   "outputs": [],
   "source": [
    "sns.set(style='white', context='poster', rc={'figure.figsize':(14,10)})"
   ]
  },
  {
   "cell_type": "code",
   "execution_count": null,
   "id": "2c5fe06c",
   "metadata": {
    "scrolled": true
   },
   "outputs": [],
   "source": [
    "np.random.seed(seed5)"
   ]
  },
  {
   "cell_type": "code",
   "execution_count": null,
   "id": "2e90d189",
   "metadata": {
    "scrolled": true
   },
   "outputs": [],
   "source": [
    "fit = umap.UMAP()\n",
    "%time u = fit.fit_transform(x)"
   ]
  },
  {
   "cell_type": "code",
   "execution_count": null,
   "id": "09e1d146",
   "metadata": {
    "scrolled": true
   },
   "outputs": [],
   "source": [
    "sc = plt.scatter(u[:,0], u[:,1], c=y, s=(10**3)*y)\n",
    "plt.legend(*sc.legend_elements(alpha=1, num=20), \n",
    "           bbox_to_anchor=(0.5,-0.08), \n",
    "           loc= 'upper center',\n",
    "           ncol=9\n",
    "          )\n",
    "plt.title('UMAP embedding of input variables');"
   ]
  },
  {
   "cell_type": "code",
   "execution_count": null,
   "id": "ddb0df70",
   "metadata": {
    "scrolled": true
   },
   "outputs": [],
   "source": [
    "def draw_umap(n_neighbors=15, min_dist=0.1, n_components=2, metric='euclidean', title=''):\n",
    "    fit = umap.UMAP(\n",
    "        n_neighbors=n_neighbors,\n",
    "        min_dist=min_dist,\n",
    "        n_components=n_components,\n",
    "        metric=metric\n",
    "    )\n",
    "    u = fit.fit_transform(x);\n",
    "    fig = plt.figure()\n",
    "    if n_components == 1:\n",
    "        ax = fig.add_subplot(111)\n",
    "        ax.scatter(u[:,0], range(len(u)), c=y, s=(10**3)*y)\n",
    "    if n_components == 2:\n",
    "        ax = fig.add_subplot(111)\n",
    "        ax.scatter(u[:,0], u[:,1], c=y, s=(10**3)*y)\n",
    "    if n_components == 3:\n",
    "        ax = fig.add_subplot(111, projection='3d')\n",
    "        ax.scatter(u[:,0], u[:,1], u[:,2], c=y, s=(10**3)*y)\n",
    "    plt.title(title, fontsize=18)"
   ]
  },
  {
   "cell_type": "code",
   "execution_count": null,
   "id": "81467b08",
   "metadata": {
    "scrolled": false
   },
   "outputs": [],
   "source": [
    "for n in (2, 5):\n",
    "    draw_umap(n_neighbors=n, title='n_neighbors = {}'.format(n))"
   ]
  },
  {
   "cell_type": "code",
   "execution_count": null,
   "id": "96c4c7f1",
   "metadata": {
    "scrolled": false
   },
   "outputs": [],
   "source": [
    "for d in (0.0, 0.8):\n",
    "    draw_umap(min_dist=d, title='min_dist = {}'.format(d))"
   ]
  },
  {
   "cell_type": "code",
   "execution_count": null,
   "id": "1e302bd6",
   "metadata": {
    "scrolled": false
   },
   "outputs": [],
   "source": [
    "draw_umap(n_components=1, title='n_components = 1')"
   ]
  },
  {
   "cell_type": "code",
   "execution_count": null,
   "id": "796d77d0",
   "metadata": {
    "scrolled": false
   },
   "outputs": [],
   "source": [
    "draw_umap(n_components=3, title='n_components = 3')"
   ]
  },
  {
   "cell_type": "code",
   "execution_count": null,
   "id": "d23cf282",
   "metadata": {
    "scrolled": false
   },
   "outputs": [],
   "source": [
    "fit = umap.UMAP(\n",
    "    n_components=2,\n",
    ")\n",
    "u = fit.fit_transform(x)"
   ]
  },
  {
   "cell_type": "code",
   "execution_count": null,
   "id": "f49edb33",
   "metadata": {},
   "outputs": [],
   "source": [
    "pd.DataFrame(u).to_csv(\"mc_simulation/inputs_umap_02_dims.csv\", index=True)"
   ]
  },
  {
   "cell_type": "code",
   "execution_count": null,
   "id": "44332467",
   "metadata": {},
   "outputs": [],
   "source": [
    "fit = umap.UMAP(\n",
    "    n_components=5,\n",
    ")\n",
    "u = fit.fit_transform(x)"
   ]
  },
  {
   "cell_type": "code",
   "execution_count": null,
   "id": "438fa5db",
   "metadata": {},
   "outputs": [],
   "source": [
    "pd.DataFrame(u).to_csv(\"mc_simulation/inputs_umap_05_dims.csv\", index=True)"
   ]
  },
  {
   "cell_type": "code",
   "execution_count": null,
   "id": "aa6d8edf",
   "metadata": {},
   "outputs": [],
   "source": [
    "fit = umap.UMAP(\n",
    "    n_components=20,\n",
    ")\n",
    "u = fit.fit_transform(x)"
   ]
  },
  {
   "cell_type": "code",
   "execution_count": null,
   "metadata": {},
   "outputs": [],
   "source": [
    "pd.DataFrame(u).to_csv(\"mc_simulation/inputs_umap_20_dims.csv\", index=True)"
   ]
  },
  {
   "cell_type": "code",
   "execution_count": null,
   "id": "7b573cd2",
   "metadata": {},
   "outputs": [],
   "source": [
    "fit = umap.UMAP(\n",
    "    n_components=30,\n",
    ")\n",
    "u = fit.fit_transform(x)"
   ]
  },
  {
   "cell_type": "code",
   "execution_count": null,
   "metadata": {},
   "outputs": [],
   "source": [
    "pd.DataFrame(u).to_csv(\"mc_simulation/inputs_umap_30_dims.csv\", index=True)"
   ]
  },
  {
   "cell_type": "code",
   "execution_count": null,
   "id": "d230640f",
   "metadata": {},
   "outputs": [],
   "source": [
    "fit = umap.UMAP(\n",
    "    n_components=40,\n",
    ")\n",
    "u = fit.fit_transform(x)"
   ]
  },
  {
   "cell_type": "code",
   "execution_count": null,
   "metadata": {},
   "outputs": [],
   "source": [
    "pd.DataFrame(u).to_csv(\"mc_simulation/inputs_umap_40_dims.csv\", index=True)"
   ]
  },
  {
   "cell_type": "code",
   "execution_count": null,
   "metadata": {},
   "outputs": [],
   "source": []
  }
 ],
 "metadata": {
  "kernelspec": {
   "display_name": "Python 3 (ipykernel)",
   "language": "python",
   "name": "python3"
  },
  "language_info": {
   "codemirror_mode": {
    "name": "ipython",
    "version": 3
   },
   "file_extension": ".py",
   "mimetype": "text/x-python",
   "name": "python",
   "nbconvert_exporter": "python",
   "pygments_lexer": "ipython3",
   "version": "3.11.3"
  }
 },
 "nbformat": 4,
 "nbformat_minor": 5
}
